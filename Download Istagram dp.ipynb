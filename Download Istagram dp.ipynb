{
 "cells": [
  {
   "cell_type": "code",
   "execution_count": null,
   "id": "d03c71a6-e1a5-4171-915d-7be2e9e042cb",
   "metadata": {},
   "outputs": [],
   "source": [
    "import instaloader\n",
    " \n",
    "ig = instaloader.Instaloader()\n",
    "dp = input(\"IG DP : \")\n",
    " \n",
    "ig.download_profile(dp , profile_pic_only=True)"
   ]
  },
  {
   "cell_type": "code",
   "execution_count": null,
   "id": "c6306dbe-8b06-4efd-a097-8c4f14a6c11b",
   "metadata": {},
   "outputs": [],
   "source": []
  },
  {
   "cell_type": "code",
   "execution_count": null,
   "id": "59db7384-d73e-4a11-894c-61f0e1b052ef",
   "metadata": {},
   "outputs": [],
   "source": []
  }
 ],
 "metadata": {
  "kernelspec": {
   "display_name": "Python 3 (ipykernel)",
   "language": "python",
   "name": "python3"
  },
  "language_info": {
   "codemirror_mode": {
    "name": "ipython",
    "version": 3
   },
   "file_extension": ".py",
   "mimetype": "text/x-python",
   "name": "python",
   "nbconvert_exporter": "python",
   "pygments_lexer": "ipython3",
   "version": "3.9.7"
  }
 },
 "nbformat": 4,
 "nbformat_minor": 5
}
