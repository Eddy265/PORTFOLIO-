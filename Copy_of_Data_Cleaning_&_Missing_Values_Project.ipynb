{
  "nbformat": 4,
  "nbformat_minor": 0,
  "metadata": {
    "colab": {
      "name": "Copy of Data Cleaning & Missing Values - Project.ipynb",
      "provenance": [],
      "collapsed_sections": [],
      "include_colab_link": true
    },
    "kernelspec": {
      "name": "python3",
      "display_name": "Python 3"
    }
  },
  "cells": [
    {
      "cell_type": "markdown",
      "metadata": {
        "id": "view-in-github",
        "colab_type": "text"
      },
      "source": [
        "<a href=\"https://colab.research.google.com/github/Eddy265/PORTFOLIO-/blob/main/Copy_of_Data_Cleaning_%26_Missing_Values_Project.ipynb\" target=\"_parent\"><img src=\"https://colab.research.google.com/assets/colab-badge.svg\" alt=\"Open In Colab\"/></a>"
      ]
    },
    {
      "cell_type": "markdown",
      "metadata": {
        "id": "2zxREd_otAge"
      },
      "source": [
        "![Immoscout](https://raw.githubusercontent.com/juliandnl/redi_ss20/master/image.png)"
      ]
    },
    {
      "cell_type": "markdown",
      "metadata": {
        "id": "YAmw_s-VtIaV"
      },
      "source": [
        "# Project - Cleaning the Expanded Immobilien Scout 24 Dataset\n",
        "\n",
        "--- \n",
        "After exploring the original dataset and trying to build a predictive model with it, it was discovered that we need more data. Unfortunately we lost access to Immobilien Scout's API so we had to scrape the data. While this worked, the data is quite messy and needs to be cleaned before we can use it. In this exercise you'll clean the remaining of the data."
      ]
    },
    {
      "cell_type": "code",
      "metadata": {
        "id": "cDxFVRHbq6eR"
      },
      "source": [
        "import numpy as np\n",
        "import pandas as pd\n",
        "import plotly.express as px"
      ],
      "execution_count": 145,
      "outputs": []
    },
    {
      "cell_type": "code",
      "metadata": {
        "id": "2GD2ryFwto1a"
      },
      "source": [
        "# Read in dataset\n",
        "df = pd.read_csv('https://raw.githubusercontent.com/ReDI-School/data-analytics/master/Class%20material/Class-11_Data_cleaning/berlin_housing_with_scraped.csv')\n",
        "pd.set_option('display.max_columns', 22)"
      ],
      "execution_count": 146,
      "outputs": []
    },
    {
      "cell_type": "code",
      "source": [
        "df.drop(columns=['url', 'tags'], inplace=True)"
      ],
      "metadata": {
        "id": "0flMHZttRT56"
      },
      "execution_count": 147,
      "outputs": []
    },
    {
      "cell_type": "code",
      "source": [
        "df.head(4)"
      ],
      "metadata": {
        "colab": {
          "base_uri": "https://localhost:8080/",
          "height": 326
        },
        "id": "Ee53COtPRBdI",
        "outputId": "c16ac2c3-25ab-444e-82be-791835ab0455"
      },
      "execution_count": 148,
      "outputs": [
        {
          "output_type": "execute_result",
          "data": {
            "text/plain": [
              "        region       condition  rooms     rent  year_construction   space  \\\n",
              "0        Mitte  first_time_use    4.0  2659.00               2019  117.20   \n",
              "1    Kreuzberg  first_time_use    1.0  1200.00               2020   29.33   \n",
              "2     Köpenick       well_kept    2.0   979.00               1997   83.61   \n",
              "3  Wilmersdorf       well_kept    4.0  1830.22               1900  171.18   \n",
              "\n",
              "  cold_rent utilities heating_costs security_deposit parking_space  \\\n",
              "0    2.199€     +460€            in                3          120€   \n",
              "1   973,51€  +226,49€            in          2920,53           NaN   \n",
              "2      799€      +90€          +90€             Drei           NaN   \n",
              "3       NaN       NaN           NaN              NaN           NaN   \n",
              "\n",
              "   renovated_date property_condition         furnishing        heating_type  \\\n",
              "0             NaN                New                NaN  Underfloor Heating   \n",
              "1             NaN                New  Gehobene Qualität     Central Heating   \n",
              "2             NaN            Groomed   Normale Qualität     Central Heating   \n",
              "3             NaN                NaN                NaN                 NaN   \n",
              "\n",
              "                       energy_sources energy_certificate  \\\n",
              "0                                 NaN                NaN   \n",
              "1  Fernwärme Energieausweis liegt vor          liegt vor   \n",
              "2  Fernwärme Energieausweis liegt vor          liegt vor   \n",
              "3                                 NaN                NaN   \n",
              "\n",
              "                                 type_of_certificate energy_requirement  \\\n",
              "0                                     Bedarfsausweis                NaN   \n",
              "1                                                NaN                NaN   \n",
              "2  Verbrauchsausweis Energie­ver­brauchs­kennwert...                NaN   \n",
              "3                                                NaN                NaN   \n",
              "\n",
              "  efficiency_class  \n",
              "0                B  \n",
              "1              NaN  \n",
              "2              NaN  \n",
              "3              NaN  "
            ],
            "text/html": [
              "\n",
              "  <div id=\"df-fad4e3fe-0475-43d6-bc27-48c5f3a28328\">\n",
              "    <div class=\"colab-df-container\">\n",
              "      <div>\n",
              "<style scoped>\n",
              "    .dataframe tbody tr th:only-of-type {\n",
              "        vertical-align: middle;\n",
              "    }\n",
              "\n",
              "    .dataframe tbody tr th {\n",
              "        vertical-align: top;\n",
              "    }\n",
              "\n",
              "    .dataframe thead th {\n",
              "        text-align: right;\n",
              "    }\n",
              "</style>\n",
              "<table border=\"1\" class=\"dataframe\">\n",
              "  <thead>\n",
              "    <tr style=\"text-align: right;\">\n",
              "      <th></th>\n",
              "      <th>region</th>\n",
              "      <th>condition</th>\n",
              "      <th>rooms</th>\n",
              "      <th>rent</th>\n",
              "      <th>year_construction</th>\n",
              "      <th>space</th>\n",
              "      <th>cold_rent</th>\n",
              "      <th>utilities</th>\n",
              "      <th>heating_costs</th>\n",
              "      <th>security_deposit</th>\n",
              "      <th>parking_space</th>\n",
              "      <th>renovated_date</th>\n",
              "      <th>property_condition</th>\n",
              "      <th>furnishing</th>\n",
              "      <th>heating_type</th>\n",
              "      <th>energy_sources</th>\n",
              "      <th>energy_certificate</th>\n",
              "      <th>type_of_certificate</th>\n",
              "      <th>energy_requirement</th>\n",
              "      <th>efficiency_class</th>\n",
              "    </tr>\n",
              "  </thead>\n",
              "  <tbody>\n",
              "    <tr>\n",
              "      <th>0</th>\n",
              "      <td>Mitte</td>\n",
              "      <td>first_time_use</td>\n",
              "      <td>4.0</td>\n",
              "      <td>2659.00</td>\n",
              "      <td>2019</td>\n",
              "      <td>117.20</td>\n",
              "      <td>2.199€</td>\n",
              "      <td>+460€</td>\n",
              "      <td>in</td>\n",
              "      <td>3</td>\n",
              "      <td>120€</td>\n",
              "      <td>NaN</td>\n",
              "      <td>New</td>\n",
              "      <td>NaN</td>\n",
              "      <td>Underfloor Heating</td>\n",
              "      <td>NaN</td>\n",
              "      <td>NaN</td>\n",
              "      <td>Bedarfsausweis</td>\n",
              "      <td>NaN</td>\n",
              "      <td>B</td>\n",
              "    </tr>\n",
              "    <tr>\n",
              "      <th>1</th>\n",
              "      <td>Kreuzberg</td>\n",
              "      <td>first_time_use</td>\n",
              "      <td>1.0</td>\n",
              "      <td>1200.00</td>\n",
              "      <td>2020</td>\n",
              "      <td>29.33</td>\n",
              "      <td>973,51€</td>\n",
              "      <td>+226,49€</td>\n",
              "      <td>in</td>\n",
              "      <td>2920,53</td>\n",
              "      <td>NaN</td>\n",
              "      <td>NaN</td>\n",
              "      <td>New</td>\n",
              "      <td>Gehobene Qualität</td>\n",
              "      <td>Central Heating</td>\n",
              "      <td>Fernwärme Energieausweis liegt vor</td>\n",
              "      <td>liegt vor</td>\n",
              "      <td>NaN</td>\n",
              "      <td>NaN</td>\n",
              "      <td>NaN</td>\n",
              "    </tr>\n",
              "    <tr>\n",
              "      <th>2</th>\n",
              "      <td>Köpenick</td>\n",
              "      <td>well_kept</td>\n",
              "      <td>2.0</td>\n",
              "      <td>979.00</td>\n",
              "      <td>1997</td>\n",
              "      <td>83.61</td>\n",
              "      <td>799€</td>\n",
              "      <td>+90€</td>\n",
              "      <td>+90€</td>\n",
              "      <td>Drei</td>\n",
              "      <td>NaN</td>\n",
              "      <td>NaN</td>\n",
              "      <td>Groomed</td>\n",
              "      <td>Normale Qualität</td>\n",
              "      <td>Central Heating</td>\n",
              "      <td>Fernwärme Energieausweis liegt vor</td>\n",
              "      <td>liegt vor</td>\n",
              "      <td>Verbrauchsausweis Energie­ver­brauchs­kennwert...</td>\n",
              "      <td>NaN</td>\n",
              "      <td>NaN</td>\n",
              "    </tr>\n",
              "    <tr>\n",
              "      <th>3</th>\n",
              "      <td>Wilmersdorf</td>\n",
              "      <td>well_kept</td>\n",
              "      <td>4.0</td>\n",
              "      <td>1830.22</td>\n",
              "      <td>1900</td>\n",
              "      <td>171.18</td>\n",
              "      <td>NaN</td>\n",
              "      <td>NaN</td>\n",
              "      <td>NaN</td>\n",
              "      <td>NaN</td>\n",
              "      <td>NaN</td>\n",
              "      <td>NaN</td>\n",
              "      <td>NaN</td>\n",
              "      <td>NaN</td>\n",
              "      <td>NaN</td>\n",
              "      <td>NaN</td>\n",
              "      <td>NaN</td>\n",
              "      <td>NaN</td>\n",
              "      <td>NaN</td>\n",
              "      <td>NaN</td>\n",
              "    </tr>\n",
              "  </tbody>\n",
              "</table>\n",
              "</div>\n",
              "      <button class=\"colab-df-convert\" onclick=\"convertToInteractive('df-fad4e3fe-0475-43d6-bc27-48c5f3a28328')\"\n",
              "              title=\"Convert this dataframe to an interactive table.\"\n",
              "              style=\"display:none;\">\n",
              "        \n",
              "  <svg xmlns=\"http://www.w3.org/2000/svg\" height=\"24px\"viewBox=\"0 0 24 24\"\n",
              "       width=\"24px\">\n",
              "    <path d=\"M0 0h24v24H0V0z\" fill=\"none\"/>\n",
              "    <path d=\"M18.56 5.44l.94 2.06.94-2.06 2.06-.94-2.06-.94-.94-2.06-.94 2.06-2.06.94zm-11 1L8.5 8.5l.94-2.06 2.06-.94-2.06-.94L8.5 2.5l-.94 2.06-2.06.94zm10 10l.94 2.06.94-2.06 2.06-.94-2.06-.94-.94-2.06-.94 2.06-2.06.94z\"/><path d=\"M17.41 7.96l-1.37-1.37c-.4-.4-.92-.59-1.43-.59-.52 0-1.04.2-1.43.59L10.3 9.45l-7.72 7.72c-.78.78-.78 2.05 0 2.83L4 21.41c.39.39.9.59 1.41.59.51 0 1.02-.2 1.41-.59l7.78-7.78 2.81-2.81c.8-.78.8-2.07 0-2.86zM5.41 20L4 18.59l7.72-7.72 1.47 1.35L5.41 20z\"/>\n",
              "  </svg>\n",
              "      </button>\n",
              "      \n",
              "  <style>\n",
              "    .colab-df-container {\n",
              "      display:flex;\n",
              "      flex-wrap:wrap;\n",
              "      gap: 12px;\n",
              "    }\n",
              "\n",
              "    .colab-df-convert {\n",
              "      background-color: #E8F0FE;\n",
              "      border: none;\n",
              "      border-radius: 50%;\n",
              "      cursor: pointer;\n",
              "      display: none;\n",
              "      fill: #1967D2;\n",
              "      height: 32px;\n",
              "      padding: 0 0 0 0;\n",
              "      width: 32px;\n",
              "    }\n",
              "\n",
              "    .colab-df-convert:hover {\n",
              "      background-color: #E2EBFA;\n",
              "      box-shadow: 0px 1px 2px rgba(60, 64, 67, 0.3), 0px 1px 3px 1px rgba(60, 64, 67, 0.15);\n",
              "      fill: #174EA6;\n",
              "    }\n",
              "\n",
              "    [theme=dark] .colab-df-convert {\n",
              "      background-color: #3B4455;\n",
              "      fill: #D2E3FC;\n",
              "    }\n",
              "\n",
              "    [theme=dark] .colab-df-convert:hover {\n",
              "      background-color: #434B5C;\n",
              "      box-shadow: 0px 1px 3px 1px rgba(0, 0, 0, 0.15);\n",
              "      filter: drop-shadow(0px 1px 2px rgba(0, 0, 0, 0.3));\n",
              "      fill: #FFFFFF;\n",
              "    }\n",
              "  </style>\n",
              "\n",
              "      <script>\n",
              "        const buttonEl =\n",
              "          document.querySelector('#df-fad4e3fe-0475-43d6-bc27-48c5f3a28328 button.colab-df-convert');\n",
              "        buttonEl.style.display =\n",
              "          google.colab.kernel.accessAllowed ? 'block' : 'none';\n",
              "\n",
              "        async function convertToInteractive(key) {\n",
              "          const element = document.querySelector('#df-fad4e3fe-0475-43d6-bc27-48c5f3a28328');\n",
              "          const dataTable =\n",
              "            await google.colab.kernel.invokeFunction('convertToInteractive',\n",
              "                                                     [key], {});\n",
              "          if (!dataTable) return;\n",
              "\n",
              "          const docLinkHtml = 'Like what you see? Visit the ' +\n",
              "            '<a target=\"_blank\" href=https://colab.research.google.com/notebooks/data_table.ipynb>data table notebook</a>'\n",
              "            + ' to learn more about interactive tables.';\n",
              "          element.innerHTML = '';\n",
              "          dataTable['output_type'] = 'display_data';\n",
              "          await google.colab.output.renderOutput(dataTable, element);\n",
              "          const docLink = document.createElement('div');\n",
              "          docLink.innerHTML = docLinkHtml;\n",
              "          element.appendChild(docLink);\n",
              "        }\n",
              "      </script>\n",
              "    </div>\n",
              "  </div>\n",
              "  "
            ]
          },
          "metadata": {},
          "execution_count": 148
        }
      ]
    },
    {
      "cell_type": "code",
      "source": [
        "df.shape"
      ],
      "metadata": {
        "id": "np46xTQ1WKz8",
        "outputId": "ba25dc7e-3c1d-4ec7-e60e-9cfa83aae2d9",
        "colab": {
          "base_uri": "https://localhost:8080/"
        }
      },
      "execution_count": 149,
      "outputs": [
        {
          "output_type": "execute_result",
          "data": {
            "text/plain": [
              "(764, 20)"
            ]
          },
          "metadata": {},
          "execution_count": 149
        }
      ]
    },
    {
      "cell_type": "markdown",
      "metadata": {
        "id": "PZmVxvM_4C5V"
      },
      "source": [
        "## 0. Before cleaning, print out how many missing values (sorted for readability) each column has:"
      ]
    },
    {
      "cell_type": "code",
      "metadata": {
        "id": "OELxGQNs-AhR",
        "outputId": "5073ade5-736a-4a22-98d5-f0b543c8a9f1",
        "colab": {
          "base_uri": "https://localhost:8080/"
        }
      },
      "source": [
        "df.isnull().sum()"
      ],
      "execution_count": 150,
      "outputs": [
        {
          "output_type": "execute_result",
          "data": {
            "text/plain": [
              "region                   0\n",
              "condition                0\n",
              "rooms                    0\n",
              "rent                     0\n",
              "year_construction        0\n",
              "space                    0\n",
              "cold_rent              338\n",
              "utilities              338\n",
              "heating_costs          338\n",
              "security_deposit       379\n",
              "parking_space          674\n",
              "renovated_date         569\n",
              "property_condition     263\n",
              "furnishing             319\n",
              "heating_type           249\n",
              "energy_sources         270\n",
              "energy_certificate     313\n",
              "type_of_certificate    297\n",
              "energy_requirement     438\n",
              "efficiency_class       513\n",
              "dtype: int64"
            ]
          },
          "metadata": {},
          "execution_count": 150
        }
      ]
    },
    {
      "cell_type": "markdown",
      "metadata": {
        "id": "UeSRMJD94EZ7"
      },
      "source": [
        "## 1. Clean: `heating_type`\n",
        "\n",
        "Please explain why you choose your strategy for filling the missing values."
      ]
    },
    {
      "cell_type": "code",
      "metadata": {
        "id": "BpfSyexk-Cju",
        "outputId": "3de65feb-2511-4c51-b69f-ecbf55a3e5bf",
        "colab": {
          "base_uri": "https://localhost:8080/"
        }
      },
      "source": [
        "df.heating_type.unique()"
      ],
      "execution_count": 151,
      "outputs": [
        {
          "output_type": "execute_result",
          "data": {
            "text/plain": [
              "array(['Underfloor Heating', 'Central Heating', nan, 'District Heating',\n",
              "       'Floor Heating', 'Gas Heating', 'CHP Plants',\n",
              "       'Wood Pellet Heating'], dtype=object)"
            ]
          },
          "metadata": {},
          "execution_count": 151
        }
      ]
    },
    {
      "cell_type": "code",
      "source": [
        "df[df.heating_type.isnull()].head(3)"
      ],
      "metadata": {
        "id": "il2cOa4gWE-p",
        "outputId": "0b14d8bb-a076-4c5b-90c0-59e93a9821e7",
        "colab": {
          "base_uri": "https://localhost:8080/",
          "height": 225
        }
      },
      "execution_count": 152,
      "outputs": [
        {
          "output_type": "execute_result",
          "data": {
            "text/plain": [
              "             region       condition  rooms     rent  year_construction  \\\n",
              "3       Wilmersdorf       well_kept    4.0  1830.22               1900   \n",
              "6             Mitte  mint_condition    2.0  1509.45               2015   \n",
              "16  Friedrichsfelde  first_time_use    3.5  1429.10               2020   \n",
              "\n",
              "     space  cold_rent utilities heating_costs security_deposit parking_space  \\\n",
              "3   171.18        NaN       NaN           NaN              NaN           NaN   \n",
              "6    61.61        NaN       NaN           NaN              NaN           NaN   \n",
              "16   82.05  1.169,14€  +164,09€       +95,87€          3507.42           NaN   \n",
              "\n",
              "    renovated_date property_condition         furnishing heating_type  \\\n",
              "3              NaN                NaN                NaN          NaN   \n",
              "6              NaN                NaN                NaN          NaN   \n",
              "16             NaN                New  Gehobene Qualität          NaN   \n",
              "\n",
              "   energy_sources energy_certificate type_of_certificate energy_requirement  \\\n",
              "3             NaN                NaN                 NaN                NaN   \n",
              "6             NaN                NaN                 NaN                NaN   \n",
              "16      Fernwärme                NaN      Bedarfsausweis      40 kWh/(m²*a)   \n",
              "\n",
              "   efficiency_class  \n",
              "3               NaN  \n",
              "6               NaN  \n",
              "16              NaN  "
            ],
            "text/html": [
              "\n",
              "  <div id=\"df-ea7e7a07-cb9a-435f-9268-d486bce57f2f\">\n",
              "    <div class=\"colab-df-container\">\n",
              "      <div>\n",
              "<style scoped>\n",
              "    .dataframe tbody tr th:only-of-type {\n",
              "        vertical-align: middle;\n",
              "    }\n",
              "\n",
              "    .dataframe tbody tr th {\n",
              "        vertical-align: top;\n",
              "    }\n",
              "\n",
              "    .dataframe thead th {\n",
              "        text-align: right;\n",
              "    }\n",
              "</style>\n",
              "<table border=\"1\" class=\"dataframe\">\n",
              "  <thead>\n",
              "    <tr style=\"text-align: right;\">\n",
              "      <th></th>\n",
              "      <th>region</th>\n",
              "      <th>condition</th>\n",
              "      <th>rooms</th>\n",
              "      <th>rent</th>\n",
              "      <th>year_construction</th>\n",
              "      <th>space</th>\n",
              "      <th>cold_rent</th>\n",
              "      <th>utilities</th>\n",
              "      <th>heating_costs</th>\n",
              "      <th>security_deposit</th>\n",
              "      <th>parking_space</th>\n",
              "      <th>renovated_date</th>\n",
              "      <th>property_condition</th>\n",
              "      <th>furnishing</th>\n",
              "      <th>heating_type</th>\n",
              "      <th>energy_sources</th>\n",
              "      <th>energy_certificate</th>\n",
              "      <th>type_of_certificate</th>\n",
              "      <th>energy_requirement</th>\n",
              "      <th>efficiency_class</th>\n",
              "    </tr>\n",
              "  </thead>\n",
              "  <tbody>\n",
              "    <tr>\n",
              "      <th>3</th>\n",
              "      <td>Wilmersdorf</td>\n",
              "      <td>well_kept</td>\n",
              "      <td>4.0</td>\n",
              "      <td>1830.22</td>\n",
              "      <td>1900</td>\n",
              "      <td>171.18</td>\n",
              "      <td>NaN</td>\n",
              "      <td>NaN</td>\n",
              "      <td>NaN</td>\n",
              "      <td>NaN</td>\n",
              "      <td>NaN</td>\n",
              "      <td>NaN</td>\n",
              "      <td>NaN</td>\n",
              "      <td>NaN</td>\n",
              "      <td>NaN</td>\n",
              "      <td>NaN</td>\n",
              "      <td>NaN</td>\n",
              "      <td>NaN</td>\n",
              "      <td>NaN</td>\n",
              "      <td>NaN</td>\n",
              "    </tr>\n",
              "    <tr>\n",
              "      <th>6</th>\n",
              "      <td>Mitte</td>\n",
              "      <td>mint_condition</td>\n",
              "      <td>2.0</td>\n",
              "      <td>1509.45</td>\n",
              "      <td>2015</td>\n",
              "      <td>61.61</td>\n",
              "      <td>NaN</td>\n",
              "      <td>NaN</td>\n",
              "      <td>NaN</td>\n",
              "      <td>NaN</td>\n",
              "      <td>NaN</td>\n",
              "      <td>NaN</td>\n",
              "      <td>NaN</td>\n",
              "      <td>NaN</td>\n",
              "      <td>NaN</td>\n",
              "      <td>NaN</td>\n",
              "      <td>NaN</td>\n",
              "      <td>NaN</td>\n",
              "      <td>NaN</td>\n",
              "      <td>NaN</td>\n",
              "    </tr>\n",
              "    <tr>\n",
              "      <th>16</th>\n",
              "      <td>Friedrichsfelde</td>\n",
              "      <td>first_time_use</td>\n",
              "      <td>3.5</td>\n",
              "      <td>1429.10</td>\n",
              "      <td>2020</td>\n",
              "      <td>82.05</td>\n",
              "      <td>1.169,14€</td>\n",
              "      <td>+164,09€</td>\n",
              "      <td>+95,87€</td>\n",
              "      <td>3507.42</td>\n",
              "      <td>NaN</td>\n",
              "      <td>NaN</td>\n",
              "      <td>New</td>\n",
              "      <td>Gehobene Qualität</td>\n",
              "      <td>NaN</td>\n",
              "      <td>Fernwärme</td>\n",
              "      <td>NaN</td>\n",
              "      <td>Bedarfsausweis</td>\n",
              "      <td>40 kWh/(m²*a)</td>\n",
              "      <td>NaN</td>\n",
              "    </tr>\n",
              "  </tbody>\n",
              "</table>\n",
              "</div>\n",
              "      <button class=\"colab-df-convert\" onclick=\"convertToInteractive('df-ea7e7a07-cb9a-435f-9268-d486bce57f2f')\"\n",
              "              title=\"Convert this dataframe to an interactive table.\"\n",
              "              style=\"display:none;\">\n",
              "        \n",
              "  <svg xmlns=\"http://www.w3.org/2000/svg\" height=\"24px\"viewBox=\"0 0 24 24\"\n",
              "       width=\"24px\">\n",
              "    <path d=\"M0 0h24v24H0V0z\" fill=\"none\"/>\n",
              "    <path d=\"M18.56 5.44l.94 2.06.94-2.06 2.06-.94-2.06-.94-.94-2.06-.94 2.06-2.06.94zm-11 1L8.5 8.5l.94-2.06 2.06-.94-2.06-.94L8.5 2.5l-.94 2.06-2.06.94zm10 10l.94 2.06.94-2.06 2.06-.94-2.06-.94-.94-2.06-.94 2.06-2.06.94z\"/><path d=\"M17.41 7.96l-1.37-1.37c-.4-.4-.92-.59-1.43-.59-.52 0-1.04.2-1.43.59L10.3 9.45l-7.72 7.72c-.78.78-.78 2.05 0 2.83L4 21.41c.39.39.9.59 1.41.59.51 0 1.02-.2 1.41-.59l7.78-7.78 2.81-2.81c.8-.78.8-2.07 0-2.86zM5.41 20L4 18.59l7.72-7.72 1.47 1.35L5.41 20z\"/>\n",
              "  </svg>\n",
              "      </button>\n",
              "      \n",
              "  <style>\n",
              "    .colab-df-container {\n",
              "      display:flex;\n",
              "      flex-wrap:wrap;\n",
              "      gap: 12px;\n",
              "    }\n",
              "\n",
              "    .colab-df-convert {\n",
              "      background-color: #E8F0FE;\n",
              "      border: none;\n",
              "      border-radius: 50%;\n",
              "      cursor: pointer;\n",
              "      display: none;\n",
              "      fill: #1967D2;\n",
              "      height: 32px;\n",
              "      padding: 0 0 0 0;\n",
              "      width: 32px;\n",
              "    }\n",
              "\n",
              "    .colab-df-convert:hover {\n",
              "      background-color: #E2EBFA;\n",
              "      box-shadow: 0px 1px 2px rgba(60, 64, 67, 0.3), 0px 1px 3px 1px rgba(60, 64, 67, 0.15);\n",
              "      fill: #174EA6;\n",
              "    }\n",
              "\n",
              "    [theme=dark] .colab-df-convert {\n",
              "      background-color: #3B4455;\n",
              "      fill: #D2E3FC;\n",
              "    }\n",
              "\n",
              "    [theme=dark] .colab-df-convert:hover {\n",
              "      background-color: #434B5C;\n",
              "      box-shadow: 0px 1px 3px 1px rgba(0, 0, 0, 0.15);\n",
              "      filter: drop-shadow(0px 1px 2px rgba(0, 0, 0, 0.3));\n",
              "      fill: #FFFFFF;\n",
              "    }\n",
              "  </style>\n",
              "\n",
              "      <script>\n",
              "        const buttonEl =\n",
              "          document.querySelector('#df-ea7e7a07-cb9a-435f-9268-d486bce57f2f button.colab-df-convert');\n",
              "        buttonEl.style.display =\n",
              "          google.colab.kernel.accessAllowed ? 'block' : 'none';\n",
              "\n",
              "        async function convertToInteractive(key) {\n",
              "          const element = document.querySelector('#df-ea7e7a07-cb9a-435f-9268-d486bce57f2f');\n",
              "          const dataTable =\n",
              "            await google.colab.kernel.invokeFunction('convertToInteractive',\n",
              "                                                     [key], {});\n",
              "          if (!dataTable) return;\n",
              "\n",
              "          const docLinkHtml = 'Like what you see? Visit the ' +\n",
              "            '<a target=\"_blank\" href=https://colab.research.google.com/notebooks/data_table.ipynb>data table notebook</a>'\n",
              "            + ' to learn more about interactive tables.';\n",
              "          element.innerHTML = '';\n",
              "          dataTable['output_type'] = 'display_data';\n",
              "          await google.colab.output.renderOutput(dataTable, element);\n",
              "          const docLink = document.createElement('div');\n",
              "          docLink.innerHTML = docLinkHtml;\n",
              "          element.appendChild(docLink);\n",
              "        }\n",
              "      </script>\n",
              "    </div>\n",
              "  </div>\n",
              "  "
            ]
          },
          "metadata": {},
          "execution_count": 152
        }
      ]
    },
    {
      "cell_type": "markdown",
      "source": [
        "# Fill Na with 'Not Provided'"
      ],
      "metadata": {
        "id": "jCNGmJC-i5eO"
      }
    },
    {
      "cell_type": "code",
      "source": [
        "df.fillna({'heating_type': 'Not provided'}, inplace=True)\n",
        "df.tail(3)"
      ],
      "metadata": {
        "id": "RSYkGHZhhtce",
        "outputId": "bee05e53-8a24-49cf-f853-5f143fd4789e",
        "colab": {
          "base_uri": "https://localhost:8080/",
          "height": 242
        }
      },
      "execution_count": 153,
      "outputs": [
        {
          "output_type": "execute_result",
          "data": {
            "text/plain": [
              "          region        condition  rooms    rent  year_construction   space  \\\n",
              "761  Wilmersdorf   mint_condition    4.0  2750.0               2017  110.00   \n",
              "762     Köpenick        well_kept    2.0  1259.0               2017   91.20   \n",
              "763     Neukölln  fully_renovated    2.0   888.0               1990   68.48   \n",
              "\n",
              "    cold_rent utilities heating_costs security_deposit parking_space  \\\n",
              "761       NaN       NaN           NaN              NaN           NaN   \n",
              "762       NaN       NaN           NaN              NaN           NaN   \n",
              "763       NaN       NaN           NaN              NaN           NaN   \n",
              "\n",
              "     renovated_date property_condition         furnishing        heating_type  \\\n",
              "761             NaN                NaN                NaN        Not provided   \n",
              "762          2017.0            Groomed  Gehobene Qualität  Underfloor Heating   \n",
              "763             NaN                NaN                NaN        Not provided   \n",
              "\n",
              "                              energy_sources energy_certificate  \\\n",
              "761                                      NaN                NaN   \n",
              "762  Wärmelieferung Energieausweis liegt vor          liegt vor   \n",
              "763                                      NaN                NaN   \n",
              "\n",
              "    type_of_certificate energy_requirement efficiency_class  \n",
              "761                 NaN                NaN              NaN  \n",
              "762      Bedarfsausweis      66 kWh/(m²*a)                B  \n",
              "763                 NaN                NaN              NaN  "
            ],
            "text/html": [
              "\n",
              "  <div id=\"df-214959d6-0aa4-4d66-8258-b382a2e1c9d6\">\n",
              "    <div class=\"colab-df-container\">\n",
              "      <div>\n",
              "<style scoped>\n",
              "    .dataframe tbody tr th:only-of-type {\n",
              "        vertical-align: middle;\n",
              "    }\n",
              "\n",
              "    .dataframe tbody tr th {\n",
              "        vertical-align: top;\n",
              "    }\n",
              "\n",
              "    .dataframe thead th {\n",
              "        text-align: right;\n",
              "    }\n",
              "</style>\n",
              "<table border=\"1\" class=\"dataframe\">\n",
              "  <thead>\n",
              "    <tr style=\"text-align: right;\">\n",
              "      <th></th>\n",
              "      <th>region</th>\n",
              "      <th>condition</th>\n",
              "      <th>rooms</th>\n",
              "      <th>rent</th>\n",
              "      <th>year_construction</th>\n",
              "      <th>space</th>\n",
              "      <th>cold_rent</th>\n",
              "      <th>utilities</th>\n",
              "      <th>heating_costs</th>\n",
              "      <th>security_deposit</th>\n",
              "      <th>parking_space</th>\n",
              "      <th>renovated_date</th>\n",
              "      <th>property_condition</th>\n",
              "      <th>furnishing</th>\n",
              "      <th>heating_type</th>\n",
              "      <th>energy_sources</th>\n",
              "      <th>energy_certificate</th>\n",
              "      <th>type_of_certificate</th>\n",
              "      <th>energy_requirement</th>\n",
              "      <th>efficiency_class</th>\n",
              "    </tr>\n",
              "  </thead>\n",
              "  <tbody>\n",
              "    <tr>\n",
              "      <th>761</th>\n",
              "      <td>Wilmersdorf</td>\n",
              "      <td>mint_condition</td>\n",
              "      <td>4.0</td>\n",
              "      <td>2750.0</td>\n",
              "      <td>2017</td>\n",
              "      <td>110.00</td>\n",
              "      <td>NaN</td>\n",
              "      <td>NaN</td>\n",
              "      <td>NaN</td>\n",
              "      <td>NaN</td>\n",
              "      <td>NaN</td>\n",
              "      <td>NaN</td>\n",
              "      <td>NaN</td>\n",
              "      <td>NaN</td>\n",
              "      <td>Not provided</td>\n",
              "      <td>NaN</td>\n",
              "      <td>NaN</td>\n",
              "      <td>NaN</td>\n",
              "      <td>NaN</td>\n",
              "      <td>NaN</td>\n",
              "    </tr>\n",
              "    <tr>\n",
              "      <th>762</th>\n",
              "      <td>Köpenick</td>\n",
              "      <td>well_kept</td>\n",
              "      <td>2.0</td>\n",
              "      <td>1259.0</td>\n",
              "      <td>2017</td>\n",
              "      <td>91.20</td>\n",
              "      <td>NaN</td>\n",
              "      <td>NaN</td>\n",
              "      <td>NaN</td>\n",
              "      <td>NaN</td>\n",
              "      <td>NaN</td>\n",
              "      <td>2017.0</td>\n",
              "      <td>Groomed</td>\n",
              "      <td>Gehobene Qualität</td>\n",
              "      <td>Underfloor Heating</td>\n",
              "      <td>Wärmelieferung Energieausweis liegt vor</td>\n",
              "      <td>liegt vor</td>\n",
              "      <td>Bedarfsausweis</td>\n",
              "      <td>66 kWh/(m²*a)</td>\n",
              "      <td>B</td>\n",
              "    </tr>\n",
              "    <tr>\n",
              "      <th>763</th>\n",
              "      <td>Neukölln</td>\n",
              "      <td>fully_renovated</td>\n",
              "      <td>2.0</td>\n",
              "      <td>888.0</td>\n",
              "      <td>1990</td>\n",
              "      <td>68.48</td>\n",
              "      <td>NaN</td>\n",
              "      <td>NaN</td>\n",
              "      <td>NaN</td>\n",
              "      <td>NaN</td>\n",
              "      <td>NaN</td>\n",
              "      <td>NaN</td>\n",
              "      <td>NaN</td>\n",
              "      <td>NaN</td>\n",
              "      <td>Not provided</td>\n",
              "      <td>NaN</td>\n",
              "      <td>NaN</td>\n",
              "      <td>NaN</td>\n",
              "      <td>NaN</td>\n",
              "      <td>NaN</td>\n",
              "    </tr>\n",
              "  </tbody>\n",
              "</table>\n",
              "</div>\n",
              "      <button class=\"colab-df-convert\" onclick=\"convertToInteractive('df-214959d6-0aa4-4d66-8258-b382a2e1c9d6')\"\n",
              "              title=\"Convert this dataframe to an interactive table.\"\n",
              "              style=\"display:none;\">\n",
              "        \n",
              "  <svg xmlns=\"http://www.w3.org/2000/svg\" height=\"24px\"viewBox=\"0 0 24 24\"\n",
              "       width=\"24px\">\n",
              "    <path d=\"M0 0h24v24H0V0z\" fill=\"none\"/>\n",
              "    <path d=\"M18.56 5.44l.94 2.06.94-2.06 2.06-.94-2.06-.94-.94-2.06-.94 2.06-2.06.94zm-11 1L8.5 8.5l.94-2.06 2.06-.94-2.06-.94L8.5 2.5l-.94 2.06-2.06.94zm10 10l.94 2.06.94-2.06 2.06-.94-2.06-.94-.94-2.06-.94 2.06-2.06.94z\"/><path d=\"M17.41 7.96l-1.37-1.37c-.4-.4-.92-.59-1.43-.59-.52 0-1.04.2-1.43.59L10.3 9.45l-7.72 7.72c-.78.78-.78 2.05 0 2.83L4 21.41c.39.39.9.59 1.41.59.51 0 1.02-.2 1.41-.59l7.78-7.78 2.81-2.81c.8-.78.8-2.07 0-2.86zM5.41 20L4 18.59l7.72-7.72 1.47 1.35L5.41 20z\"/>\n",
              "  </svg>\n",
              "      </button>\n",
              "      \n",
              "  <style>\n",
              "    .colab-df-container {\n",
              "      display:flex;\n",
              "      flex-wrap:wrap;\n",
              "      gap: 12px;\n",
              "    }\n",
              "\n",
              "    .colab-df-convert {\n",
              "      background-color: #E8F0FE;\n",
              "      border: none;\n",
              "      border-radius: 50%;\n",
              "      cursor: pointer;\n",
              "      display: none;\n",
              "      fill: #1967D2;\n",
              "      height: 32px;\n",
              "      padding: 0 0 0 0;\n",
              "      width: 32px;\n",
              "    }\n",
              "\n",
              "    .colab-df-convert:hover {\n",
              "      background-color: #E2EBFA;\n",
              "      box-shadow: 0px 1px 2px rgba(60, 64, 67, 0.3), 0px 1px 3px 1px rgba(60, 64, 67, 0.15);\n",
              "      fill: #174EA6;\n",
              "    }\n",
              "\n",
              "    [theme=dark] .colab-df-convert {\n",
              "      background-color: #3B4455;\n",
              "      fill: #D2E3FC;\n",
              "    }\n",
              "\n",
              "    [theme=dark] .colab-df-convert:hover {\n",
              "      background-color: #434B5C;\n",
              "      box-shadow: 0px 1px 3px 1px rgba(0, 0, 0, 0.15);\n",
              "      filter: drop-shadow(0px 1px 2px rgba(0, 0, 0, 0.3));\n",
              "      fill: #FFFFFF;\n",
              "    }\n",
              "  </style>\n",
              "\n",
              "      <script>\n",
              "        const buttonEl =\n",
              "          document.querySelector('#df-214959d6-0aa4-4d66-8258-b382a2e1c9d6 button.colab-df-convert');\n",
              "        buttonEl.style.display =\n",
              "          google.colab.kernel.accessAllowed ? 'block' : 'none';\n",
              "\n",
              "        async function convertToInteractive(key) {\n",
              "          const element = document.querySelector('#df-214959d6-0aa4-4d66-8258-b382a2e1c9d6');\n",
              "          const dataTable =\n",
              "            await google.colab.kernel.invokeFunction('convertToInteractive',\n",
              "                                                     [key], {});\n",
              "          if (!dataTable) return;\n",
              "\n",
              "          const docLinkHtml = 'Like what you see? Visit the ' +\n",
              "            '<a target=\"_blank\" href=https://colab.research.google.com/notebooks/data_table.ipynb>data table notebook</a>'\n",
              "            + ' to learn more about interactive tables.';\n",
              "          element.innerHTML = '';\n",
              "          dataTable['output_type'] = 'display_data';\n",
              "          await google.colab.output.renderOutput(dataTable, element);\n",
              "          const docLink = document.createElement('div');\n",
              "          docLink.innerHTML = docLinkHtml;\n",
              "          element.appendChild(docLink);\n",
              "        }\n",
              "      </script>\n",
              "    </div>\n",
              "  </div>\n",
              "  "
            ]
          },
          "metadata": {},
          "execution_count": 153
        }
      ]
    },
    {
      "cell_type": "code",
      "source": [
        "df.isnull().sum()"
      ],
      "metadata": {
        "id": "TkCOz1fZjAbh",
        "outputId": "e3345006-9739-4351-d31c-0309855ce4e3",
        "colab": {
          "base_uri": "https://localhost:8080/"
        }
      },
      "execution_count": 154,
      "outputs": [
        {
          "output_type": "execute_result",
          "data": {
            "text/plain": [
              "region                   0\n",
              "condition                0\n",
              "rooms                    0\n",
              "rent                     0\n",
              "year_construction        0\n",
              "space                    0\n",
              "cold_rent              338\n",
              "utilities              338\n",
              "heating_costs          338\n",
              "security_deposit       379\n",
              "parking_space          674\n",
              "renovated_date         569\n",
              "property_condition     263\n",
              "furnishing             319\n",
              "heating_type             0\n",
              "energy_sources         270\n",
              "energy_certificate     313\n",
              "type_of_certificate    297\n",
              "energy_requirement     438\n",
              "efficiency_class       513\n",
              "dtype: int64"
            ]
          },
          "metadata": {},
          "execution_count": 154
        }
      ]
    },
    {
      "cell_type": "code",
      "source": [
        "px.bar(df.heating_type.value_counts().reset_index(), x='index', y='heating_type')"
      ],
      "metadata": {
        "id": "o25ol9z3la1x",
        "outputId": "8f17eb93-e14b-4b6f-fb90-103e9d53eba3",
        "colab": {
          "base_uri": "https://localhost:8080/",
          "height": 542
        }
      },
      "execution_count": 155,
      "outputs": [
        {
          "output_type": "display_data",
          "data": {
            "text/html": [
              "<html>\n",
              "<head><meta charset=\"utf-8\" /></head>\n",
              "<body>\n",
              "    <div>            <script src=\"https://cdnjs.cloudflare.com/ajax/libs/mathjax/2.7.5/MathJax.js?config=TeX-AMS-MML_SVG\"></script><script type=\"text/javascript\">if (window.MathJax) {MathJax.Hub.Config({SVG: {font: \"STIX-Web\"}});}</script>                <script type=\"text/javascript\">window.PlotlyConfig = {MathJaxConfig: 'local'};</script>\n",
              "        <script src=\"https://cdn.plot.ly/plotly-2.8.3.min.js\"></script>                <div id=\"258f1f97-c84c-4a0a-8f05-15a71f134eee\" class=\"plotly-graph-div\" style=\"height:525px; width:100%;\"></div>            <script type=\"text/javascript\">                                    window.PLOTLYENV=window.PLOTLYENV || {};                                    if (document.getElementById(\"258f1f97-c84c-4a0a-8f05-15a71f134eee\")) {                    Plotly.newPlot(                        \"258f1f97-c84c-4a0a-8f05-15a71f134eee\",                        [{\"alignmentgroup\":\"True\",\"hovertemplate\":\"index=%{x}<br>heating_type=%{y}<extra></extra>\",\"legendgroup\":\"\",\"marker\":{\"color\":\"#636efa\",\"pattern\":{\"shape\":\"\"}},\"name\":\"\",\"offsetgroup\":\"\",\"orientation\":\"v\",\"showlegend\":false,\"textposition\":\"auto\",\"x\":[\"Not provided\",\"Central Heating\",\"District Heating\",\"Underfloor Heating\",\"Floor Heating\",\"Gas Heating\",\"CHP Plants\",\"Wood Pellet Heating\"],\"xaxis\":\"x\",\"y\":[249,201,149,127,24,10,2,2],\"yaxis\":\"y\",\"type\":\"bar\"}],                        {\"template\":{\"data\":{\"bar\":[{\"error_x\":{\"color\":\"#2a3f5f\"},\"error_y\":{\"color\":\"#2a3f5f\"},\"marker\":{\"line\":{\"color\":\"#E5ECF6\",\"width\":0.5},\"pattern\":{\"fillmode\":\"overlay\",\"size\":10,\"solidity\":0.2}},\"type\":\"bar\"}],\"barpolar\":[{\"marker\":{\"line\":{\"color\":\"#E5ECF6\",\"width\":0.5},\"pattern\":{\"fillmode\":\"overlay\",\"size\":10,\"solidity\":0.2}},\"type\":\"barpolar\"}],\"carpet\":[{\"aaxis\":{\"endlinecolor\":\"#2a3f5f\",\"gridcolor\":\"white\",\"linecolor\":\"white\",\"minorgridcolor\":\"white\",\"startlinecolor\":\"#2a3f5f\"},\"baxis\":{\"endlinecolor\":\"#2a3f5f\",\"gridcolor\":\"white\",\"linecolor\":\"white\",\"minorgridcolor\":\"white\",\"startlinecolor\":\"#2a3f5f\"},\"type\":\"carpet\"}],\"choropleth\":[{\"colorbar\":{\"outlinewidth\":0,\"ticks\":\"\"},\"type\":\"choropleth\"}],\"contour\":[{\"colorbar\":{\"outlinewidth\":0,\"ticks\":\"\"},\"colorscale\":[[0.0,\"#0d0887\"],[0.1111111111111111,\"#46039f\"],[0.2222222222222222,\"#7201a8\"],[0.3333333333333333,\"#9c179e\"],[0.4444444444444444,\"#bd3786\"],[0.5555555555555556,\"#d8576b\"],[0.6666666666666666,\"#ed7953\"],[0.7777777777777778,\"#fb9f3a\"],[0.8888888888888888,\"#fdca26\"],[1.0,\"#f0f921\"]],\"type\":\"contour\"}],\"contourcarpet\":[{\"colorbar\":{\"outlinewidth\":0,\"ticks\":\"\"},\"type\":\"contourcarpet\"}],\"heatmap\":[{\"colorbar\":{\"outlinewidth\":0,\"ticks\":\"\"},\"colorscale\":[[0.0,\"#0d0887\"],[0.1111111111111111,\"#46039f\"],[0.2222222222222222,\"#7201a8\"],[0.3333333333333333,\"#9c179e\"],[0.4444444444444444,\"#bd3786\"],[0.5555555555555556,\"#d8576b\"],[0.6666666666666666,\"#ed7953\"],[0.7777777777777778,\"#fb9f3a\"],[0.8888888888888888,\"#fdca26\"],[1.0,\"#f0f921\"]],\"type\":\"heatmap\"}],\"heatmapgl\":[{\"colorbar\":{\"outlinewidth\":0,\"ticks\":\"\"},\"colorscale\":[[0.0,\"#0d0887\"],[0.1111111111111111,\"#46039f\"],[0.2222222222222222,\"#7201a8\"],[0.3333333333333333,\"#9c179e\"],[0.4444444444444444,\"#bd3786\"],[0.5555555555555556,\"#d8576b\"],[0.6666666666666666,\"#ed7953\"],[0.7777777777777778,\"#fb9f3a\"],[0.8888888888888888,\"#fdca26\"],[1.0,\"#f0f921\"]],\"type\":\"heatmapgl\"}],\"histogram\":[{\"marker\":{\"pattern\":{\"fillmode\":\"overlay\",\"size\":10,\"solidity\":0.2}},\"type\":\"histogram\"}],\"histogram2d\":[{\"colorbar\":{\"outlinewidth\":0,\"ticks\":\"\"},\"colorscale\":[[0.0,\"#0d0887\"],[0.1111111111111111,\"#46039f\"],[0.2222222222222222,\"#7201a8\"],[0.3333333333333333,\"#9c179e\"],[0.4444444444444444,\"#bd3786\"],[0.5555555555555556,\"#d8576b\"],[0.6666666666666666,\"#ed7953\"],[0.7777777777777778,\"#fb9f3a\"],[0.8888888888888888,\"#fdca26\"],[1.0,\"#f0f921\"]],\"type\":\"histogram2d\"}],\"histogram2dcontour\":[{\"colorbar\":{\"outlinewidth\":0,\"ticks\":\"\"},\"colorscale\":[[0.0,\"#0d0887\"],[0.1111111111111111,\"#46039f\"],[0.2222222222222222,\"#7201a8\"],[0.3333333333333333,\"#9c179e\"],[0.4444444444444444,\"#bd3786\"],[0.5555555555555556,\"#d8576b\"],[0.6666666666666666,\"#ed7953\"],[0.7777777777777778,\"#fb9f3a\"],[0.8888888888888888,\"#fdca26\"],[1.0,\"#f0f921\"]],\"type\":\"histogram2dcontour\"}],\"mesh3d\":[{\"colorbar\":{\"outlinewidth\":0,\"ticks\":\"\"},\"type\":\"mesh3d\"}],\"parcoords\":[{\"line\":{\"colorbar\":{\"outlinewidth\":0,\"ticks\":\"\"}},\"type\":\"parcoords\"}],\"pie\":[{\"automargin\":true,\"type\":\"pie\"}],\"scatter\":[{\"marker\":{\"colorbar\":{\"outlinewidth\":0,\"ticks\":\"\"}},\"type\":\"scatter\"}],\"scatter3d\":[{\"line\":{\"colorbar\":{\"outlinewidth\":0,\"ticks\":\"\"}},\"marker\":{\"colorbar\":{\"outlinewidth\":0,\"ticks\":\"\"}},\"type\":\"scatter3d\"}],\"scattercarpet\":[{\"marker\":{\"colorbar\":{\"outlinewidth\":0,\"ticks\":\"\"}},\"type\":\"scattercarpet\"}],\"scattergeo\":[{\"marker\":{\"colorbar\":{\"outlinewidth\":0,\"ticks\":\"\"}},\"type\":\"scattergeo\"}],\"scattergl\":[{\"marker\":{\"colorbar\":{\"outlinewidth\":0,\"ticks\":\"\"}},\"type\":\"scattergl\"}],\"scattermapbox\":[{\"marker\":{\"colorbar\":{\"outlinewidth\":0,\"ticks\":\"\"}},\"type\":\"scattermapbox\"}],\"scatterpolar\":[{\"marker\":{\"colorbar\":{\"outlinewidth\":0,\"ticks\":\"\"}},\"type\":\"scatterpolar\"}],\"scatterpolargl\":[{\"marker\":{\"colorbar\":{\"outlinewidth\":0,\"ticks\":\"\"}},\"type\":\"scatterpolargl\"}],\"scatterternary\":[{\"marker\":{\"colorbar\":{\"outlinewidth\":0,\"ticks\":\"\"}},\"type\":\"scatterternary\"}],\"surface\":[{\"colorbar\":{\"outlinewidth\":0,\"ticks\":\"\"},\"colorscale\":[[0.0,\"#0d0887\"],[0.1111111111111111,\"#46039f\"],[0.2222222222222222,\"#7201a8\"],[0.3333333333333333,\"#9c179e\"],[0.4444444444444444,\"#bd3786\"],[0.5555555555555556,\"#d8576b\"],[0.6666666666666666,\"#ed7953\"],[0.7777777777777778,\"#fb9f3a\"],[0.8888888888888888,\"#fdca26\"],[1.0,\"#f0f921\"]],\"type\":\"surface\"}],\"table\":[{\"cells\":{\"fill\":{\"color\":\"#EBF0F8\"},\"line\":{\"color\":\"white\"}},\"header\":{\"fill\":{\"color\":\"#C8D4E3\"},\"line\":{\"color\":\"white\"}},\"type\":\"table\"}]},\"layout\":{\"annotationdefaults\":{\"arrowcolor\":\"#2a3f5f\",\"arrowhead\":0,\"arrowwidth\":1},\"autotypenumbers\":\"strict\",\"coloraxis\":{\"colorbar\":{\"outlinewidth\":0,\"ticks\":\"\"}},\"colorscale\":{\"diverging\":[[0,\"#8e0152\"],[0.1,\"#c51b7d\"],[0.2,\"#de77ae\"],[0.3,\"#f1b6da\"],[0.4,\"#fde0ef\"],[0.5,\"#f7f7f7\"],[0.6,\"#e6f5d0\"],[0.7,\"#b8e186\"],[0.8,\"#7fbc41\"],[0.9,\"#4d9221\"],[1,\"#276419\"]],\"sequential\":[[0.0,\"#0d0887\"],[0.1111111111111111,\"#46039f\"],[0.2222222222222222,\"#7201a8\"],[0.3333333333333333,\"#9c179e\"],[0.4444444444444444,\"#bd3786\"],[0.5555555555555556,\"#d8576b\"],[0.6666666666666666,\"#ed7953\"],[0.7777777777777778,\"#fb9f3a\"],[0.8888888888888888,\"#fdca26\"],[1.0,\"#f0f921\"]],\"sequentialminus\":[[0.0,\"#0d0887\"],[0.1111111111111111,\"#46039f\"],[0.2222222222222222,\"#7201a8\"],[0.3333333333333333,\"#9c179e\"],[0.4444444444444444,\"#bd3786\"],[0.5555555555555556,\"#d8576b\"],[0.6666666666666666,\"#ed7953\"],[0.7777777777777778,\"#fb9f3a\"],[0.8888888888888888,\"#fdca26\"],[1.0,\"#f0f921\"]]},\"colorway\":[\"#636efa\",\"#EF553B\",\"#00cc96\",\"#ab63fa\",\"#FFA15A\",\"#19d3f3\",\"#FF6692\",\"#B6E880\",\"#FF97FF\",\"#FECB52\"],\"font\":{\"color\":\"#2a3f5f\"},\"geo\":{\"bgcolor\":\"white\",\"lakecolor\":\"white\",\"landcolor\":\"#E5ECF6\",\"showlakes\":true,\"showland\":true,\"subunitcolor\":\"white\"},\"hoverlabel\":{\"align\":\"left\"},\"hovermode\":\"closest\",\"mapbox\":{\"style\":\"light\"},\"paper_bgcolor\":\"white\",\"plot_bgcolor\":\"#E5ECF6\",\"polar\":{\"angularaxis\":{\"gridcolor\":\"white\",\"linecolor\":\"white\",\"ticks\":\"\"},\"bgcolor\":\"#E5ECF6\",\"radialaxis\":{\"gridcolor\":\"white\",\"linecolor\":\"white\",\"ticks\":\"\"}},\"scene\":{\"xaxis\":{\"backgroundcolor\":\"#E5ECF6\",\"gridcolor\":\"white\",\"gridwidth\":2,\"linecolor\":\"white\",\"showbackground\":true,\"ticks\":\"\",\"zerolinecolor\":\"white\"},\"yaxis\":{\"backgroundcolor\":\"#E5ECF6\",\"gridcolor\":\"white\",\"gridwidth\":2,\"linecolor\":\"white\",\"showbackground\":true,\"ticks\":\"\",\"zerolinecolor\":\"white\"},\"zaxis\":{\"backgroundcolor\":\"#E5ECF6\",\"gridcolor\":\"white\",\"gridwidth\":2,\"linecolor\":\"white\",\"showbackground\":true,\"ticks\":\"\",\"zerolinecolor\":\"white\"}},\"shapedefaults\":{\"line\":{\"color\":\"#2a3f5f\"}},\"ternary\":{\"aaxis\":{\"gridcolor\":\"white\",\"linecolor\":\"white\",\"ticks\":\"\"},\"baxis\":{\"gridcolor\":\"white\",\"linecolor\":\"white\",\"ticks\":\"\"},\"bgcolor\":\"#E5ECF6\",\"caxis\":{\"gridcolor\":\"white\",\"linecolor\":\"white\",\"ticks\":\"\"}},\"title\":{\"x\":0.05},\"xaxis\":{\"automargin\":true,\"gridcolor\":\"white\",\"linecolor\":\"white\",\"ticks\":\"\",\"title\":{\"standoff\":15},\"zerolinecolor\":\"white\",\"zerolinewidth\":2},\"yaxis\":{\"automargin\":true,\"gridcolor\":\"white\",\"linecolor\":\"white\",\"ticks\":\"\",\"title\":{\"standoff\":15},\"zerolinecolor\":\"white\",\"zerolinewidth\":2}}},\"xaxis\":{\"anchor\":\"y\",\"domain\":[0.0,1.0],\"title\":{\"text\":\"index\"}},\"yaxis\":{\"anchor\":\"x\",\"domain\":[0.0,1.0],\"title\":{\"text\":\"heating_type\"}},\"legend\":{\"tracegroupgap\":0},\"margin\":{\"t\":60},\"barmode\":\"relative\"},                        {\"responsive\": true}                    ).then(function(){\n",
              "                            \n",
              "var gd = document.getElementById('258f1f97-c84c-4a0a-8f05-15a71f134eee');\n",
              "var x = new MutationObserver(function (mutations, observer) {{\n",
              "        var display = window.getComputedStyle(gd).display;\n",
              "        if (!display || display === 'none') {{\n",
              "            console.log([gd, 'removed!']);\n",
              "            Plotly.purge(gd);\n",
              "            observer.disconnect();\n",
              "        }}\n",
              "}});\n",
              "\n",
              "// Listen for the removal of the full notebook cells\n",
              "var notebookContainer = gd.closest('#notebook-container');\n",
              "if (notebookContainer) {{\n",
              "    x.observe(notebookContainer, {childList: true});\n",
              "}}\n",
              "\n",
              "// Listen for the clearing of the current output cell\n",
              "var outputEl = gd.closest('.output');\n",
              "if (outputEl) {{\n",
              "    x.observe(outputEl, {childList: true});\n",
              "}}\n",
              "\n",
              "                        })                };                            </script>        </div>\n",
              "</body>\n",
              "</html>"
            ]
          },
          "metadata": {}
        }
      ]
    },
    {
      "cell_type": "markdown",
      "metadata": {
        "id": "RLAa7wgu4E0V"
      },
      "source": [
        "## 2. Clean: `renovated_date`\n",
        "\n",
        "# Please explain why you choose your strategy for filling the missing values.\n",
        "Explanation:\n",
        "The approach is to fill the missing renovated_year with the mode renovated year in each of the regions. This approach was chosen because it would be logical to assume that the missing values would contain more of the highest occured renovated year in each region.  "
      ]
    },
    {
      "cell_type": "code",
      "metadata": {
        "id": "HOpffadx-EhM",
        "outputId": "f0cb370e-dde2-4adb-efbd-d6579a09c836",
        "colab": {
          "base_uri": "https://localhost:8080/"
        }
      },
      "source": [
        "df.renovated_date.value_counts(dropna=False)"
      ],
      "execution_count": 156,
      "outputs": [
        {
          "output_type": "execute_result",
          "data": {
            "text/plain": [
              "NaN       569\n",
              "2019.0    121\n",
              "2020.0     26\n",
              "2016.0     13\n",
              "2017.0     12\n",
              "2018.0     11\n",
              "2015.0      4\n",
              "2011.0      2\n",
              "1995.0      2\n",
              "2014.0      1\n",
              "2010.0      1\n",
              "2006.0      1\n",
              "2012.0      1\n",
              "Name: renovated_date, dtype: int64"
            ]
          },
          "metadata": {},
          "execution_count": 156
        }
      ]
    },
    {
      "cell_type": "code",
      "source": [
        "df.renovated_date.notnull().sum()"
      ],
      "metadata": {
        "id": "hv_Fu0n5joeM",
        "outputId": "c630f479-25f0-4881-c4e3-b9d8ba3b3ee6",
        "colab": {
          "base_uri": "https://localhost:8080/"
        }
      },
      "execution_count": 157,
      "outputs": [
        {
          "output_type": "execute_result",
          "data": {
            "text/plain": [
              "195"
            ]
          },
          "metadata": {},
          "execution_count": 157
        }
      ]
    },
    {
      "cell_type": "code",
      "source": [
        "df.renovated_date.isnull().sum()"
      ],
      "metadata": {
        "id": "L4qLvSvFnHSA",
        "outputId": "8533bbcf-230f-4496-defa-8ed035a8eb71",
        "colab": {
          "base_uri": "https://localhost:8080/"
        }
      },
      "execution_count": 158,
      "outputs": [
        {
          "output_type": "execute_result",
          "data": {
            "text/plain": [
              "569"
            ]
          },
          "metadata": {},
          "execution_count": 158
        }
      ]
    },
    {
      "cell_type": "code",
      "source": [
        "df.region.unique()"
      ],
      "metadata": {
        "id": "phkWLJy1jojP",
        "outputId": "dddf208d-9d91-4031-fe44-ca2794133673",
        "colab": {
          "base_uri": "https://localhost:8080/"
        }
      },
      "execution_count": 159,
      "outputs": [
        {
          "output_type": "execute_result",
          "data": {
            "text/plain": [
              "array(['Mitte', 'Kreuzberg', 'Köpenick', 'Wilmersdorf', 'Charlottenburg',\n",
              "       'Friedrichsfelde', 'Tiergarten', 'Prenzlauer', 'Wedding',\n",
              "       'Neukölln'], dtype=object)"
            ]
          },
          "metadata": {},
          "execution_count": 159
        }
      ]
    },
    {
      "cell_type": "code",
      "source": [
        "df.region.value_counts()"
      ],
      "metadata": {
        "id": "_66o3KSLn61z",
        "outputId": "c53db9b6-c579-41d0-a564-0d240f6aaed8",
        "colab": {
          "base_uri": "https://localhost:8080/"
        }
      },
      "execution_count": 160,
      "outputs": [
        {
          "output_type": "execute_result",
          "data": {
            "text/plain": [
              "Tiergarten         171\n",
              "Mitte              153\n",
              "Charlottenburg      79\n",
              "Neukölln            59\n",
              "Köpenick            55\n",
              "Wilmersdorf         53\n",
              "Prenzlauer          53\n",
              "Friedrichsfelde     52\n",
              "Kreuzberg           47\n",
              "Wedding             42\n",
              "Name: region, dtype: int64"
            ]
          },
          "metadata": {},
          "execution_count": 160
        }
      ]
    },
    {
      "cell_type": "markdown",
      "source": [
        "# Calculate the frequency of renovated_date in each regions"
      ],
      "metadata": {
        "id": "hDv46JMp9aUe"
      }
    },
    {
      "cell_type": "code",
      "source": [
        "df1 = df[['region','renovated_date']]"
      ],
      "metadata": {
        "id": "HkYvHiYhVJPk"
      },
      "execution_count": 161,
      "outputs": []
    },
    {
      "cell_type": "code",
      "source": [
        "df2 = df1.groupby(['region','renovated_date']).size().reset_index()\n",
        "df2.rename(columns={0:\"Count\"},inplace=True)\n",
        "df3 = df2.sort_values(['region','Count'],ascending = [True,False])\n",
        "df4 = df3.groupby('region').head(1).reset_index(drop=True)\n",
        "df4"
      ],
      "metadata": {
        "id": "dn1otVPFVHyv",
        "outputId": "7ab012ac-fd76-450d-a012-5a8e800e10f7",
        "colab": {
          "base_uri": "https://localhost:8080/",
          "height": 332
        }
      },
      "execution_count": 162,
      "outputs": [
        {
          "output_type": "execute_result",
          "data": {
            "text/plain": [
              "           region  renovated_date  Count\n",
              "0  Charlottenburg          2019.0      5\n",
              "1       Kreuzberg          2019.0      4\n",
              "2        Köpenick          2019.0      9\n",
              "3           Mitte          2020.0      7\n",
              "4        Neukölln          2019.0      7\n",
              "5      Prenzlauer          2019.0      8\n",
              "6      Tiergarten          2019.0     74\n",
              "7         Wedding          2018.0      2\n",
              "8     Wilmersdorf          2019.0      8"
            ],
            "text/html": [
              "\n",
              "  <div id=\"df-0ce405a4-aead-4a2b-9a66-f2d231126dd0\">\n",
              "    <div class=\"colab-df-container\">\n",
              "      <div>\n",
              "<style scoped>\n",
              "    .dataframe tbody tr th:only-of-type {\n",
              "        vertical-align: middle;\n",
              "    }\n",
              "\n",
              "    .dataframe tbody tr th {\n",
              "        vertical-align: top;\n",
              "    }\n",
              "\n",
              "    .dataframe thead th {\n",
              "        text-align: right;\n",
              "    }\n",
              "</style>\n",
              "<table border=\"1\" class=\"dataframe\">\n",
              "  <thead>\n",
              "    <tr style=\"text-align: right;\">\n",
              "      <th></th>\n",
              "      <th>region</th>\n",
              "      <th>renovated_date</th>\n",
              "      <th>Count</th>\n",
              "    </tr>\n",
              "  </thead>\n",
              "  <tbody>\n",
              "    <tr>\n",
              "      <th>0</th>\n",
              "      <td>Charlottenburg</td>\n",
              "      <td>2019.0</td>\n",
              "      <td>5</td>\n",
              "    </tr>\n",
              "    <tr>\n",
              "      <th>1</th>\n",
              "      <td>Kreuzberg</td>\n",
              "      <td>2019.0</td>\n",
              "      <td>4</td>\n",
              "    </tr>\n",
              "    <tr>\n",
              "      <th>2</th>\n",
              "      <td>Köpenick</td>\n",
              "      <td>2019.0</td>\n",
              "      <td>9</td>\n",
              "    </tr>\n",
              "    <tr>\n",
              "      <th>3</th>\n",
              "      <td>Mitte</td>\n",
              "      <td>2020.0</td>\n",
              "      <td>7</td>\n",
              "    </tr>\n",
              "    <tr>\n",
              "      <th>4</th>\n",
              "      <td>Neukölln</td>\n",
              "      <td>2019.0</td>\n",
              "      <td>7</td>\n",
              "    </tr>\n",
              "    <tr>\n",
              "      <th>5</th>\n",
              "      <td>Prenzlauer</td>\n",
              "      <td>2019.0</td>\n",
              "      <td>8</td>\n",
              "    </tr>\n",
              "    <tr>\n",
              "      <th>6</th>\n",
              "      <td>Tiergarten</td>\n",
              "      <td>2019.0</td>\n",
              "      <td>74</td>\n",
              "    </tr>\n",
              "    <tr>\n",
              "      <th>7</th>\n",
              "      <td>Wedding</td>\n",
              "      <td>2018.0</td>\n",
              "      <td>2</td>\n",
              "    </tr>\n",
              "    <tr>\n",
              "      <th>8</th>\n",
              "      <td>Wilmersdorf</td>\n",
              "      <td>2019.0</td>\n",
              "      <td>8</td>\n",
              "    </tr>\n",
              "  </tbody>\n",
              "</table>\n",
              "</div>\n",
              "      <button class=\"colab-df-convert\" onclick=\"convertToInteractive('df-0ce405a4-aead-4a2b-9a66-f2d231126dd0')\"\n",
              "              title=\"Convert this dataframe to an interactive table.\"\n",
              "              style=\"display:none;\">\n",
              "        \n",
              "  <svg xmlns=\"http://www.w3.org/2000/svg\" height=\"24px\"viewBox=\"0 0 24 24\"\n",
              "       width=\"24px\">\n",
              "    <path d=\"M0 0h24v24H0V0z\" fill=\"none\"/>\n",
              "    <path d=\"M18.56 5.44l.94 2.06.94-2.06 2.06-.94-2.06-.94-.94-2.06-.94 2.06-2.06.94zm-11 1L8.5 8.5l.94-2.06 2.06-.94-2.06-.94L8.5 2.5l-.94 2.06-2.06.94zm10 10l.94 2.06.94-2.06 2.06-.94-2.06-.94-.94-2.06-.94 2.06-2.06.94z\"/><path d=\"M17.41 7.96l-1.37-1.37c-.4-.4-.92-.59-1.43-.59-.52 0-1.04.2-1.43.59L10.3 9.45l-7.72 7.72c-.78.78-.78 2.05 0 2.83L4 21.41c.39.39.9.59 1.41.59.51 0 1.02-.2 1.41-.59l7.78-7.78 2.81-2.81c.8-.78.8-2.07 0-2.86zM5.41 20L4 18.59l7.72-7.72 1.47 1.35L5.41 20z\"/>\n",
              "  </svg>\n",
              "      </button>\n",
              "      \n",
              "  <style>\n",
              "    .colab-df-container {\n",
              "      display:flex;\n",
              "      flex-wrap:wrap;\n",
              "      gap: 12px;\n",
              "    }\n",
              "\n",
              "    .colab-df-convert {\n",
              "      background-color: #E8F0FE;\n",
              "      border: none;\n",
              "      border-radius: 50%;\n",
              "      cursor: pointer;\n",
              "      display: none;\n",
              "      fill: #1967D2;\n",
              "      height: 32px;\n",
              "      padding: 0 0 0 0;\n",
              "      width: 32px;\n",
              "    }\n",
              "\n",
              "    .colab-df-convert:hover {\n",
              "      background-color: #E2EBFA;\n",
              "      box-shadow: 0px 1px 2px rgba(60, 64, 67, 0.3), 0px 1px 3px 1px rgba(60, 64, 67, 0.15);\n",
              "      fill: #174EA6;\n",
              "    }\n",
              "\n",
              "    [theme=dark] .colab-df-convert {\n",
              "      background-color: #3B4455;\n",
              "      fill: #D2E3FC;\n",
              "    }\n",
              "\n",
              "    [theme=dark] .colab-df-convert:hover {\n",
              "      background-color: #434B5C;\n",
              "      box-shadow: 0px 1px 3px 1px rgba(0, 0, 0, 0.15);\n",
              "      filter: drop-shadow(0px 1px 2px rgba(0, 0, 0, 0.3));\n",
              "      fill: #FFFFFF;\n",
              "    }\n",
              "  </style>\n",
              "\n",
              "      <script>\n",
              "        const buttonEl =\n",
              "          document.querySelector('#df-0ce405a4-aead-4a2b-9a66-f2d231126dd0 button.colab-df-convert');\n",
              "        buttonEl.style.display =\n",
              "          google.colab.kernel.accessAllowed ? 'block' : 'none';\n",
              "\n",
              "        async function convertToInteractive(key) {\n",
              "          const element = document.querySelector('#df-0ce405a4-aead-4a2b-9a66-f2d231126dd0');\n",
              "          const dataTable =\n",
              "            await google.colab.kernel.invokeFunction('convertToInteractive',\n",
              "                                                     [key], {});\n",
              "          if (!dataTable) return;\n",
              "\n",
              "          const docLinkHtml = 'Like what you see? Visit the ' +\n",
              "            '<a target=\"_blank\" href=https://colab.research.google.com/notebooks/data_table.ipynb>data table notebook</a>'\n",
              "            + ' to learn more about interactive tables.';\n",
              "          element.innerHTML = '';\n",
              "          dataTable['output_type'] = 'display_data';\n",
              "          await google.colab.output.renderOutput(dataTable, element);\n",
              "          const docLink = document.createElement('div');\n",
              "          docLink.innerHTML = docLinkHtml;\n",
              "          element.appendChild(docLink);\n",
              "        }\n",
              "      </script>\n",
              "    </div>\n",
              "  </div>\n",
              "  "
            ]
          },
          "metadata": {},
          "execution_count": 162
        }
      ]
    },
    {
      "cell_type": "markdown",
      "source": [
        "# All the renovated date in Friedrichsfelde are missing"
      ],
      "metadata": {
        "id": "91a0PmaA9ogP"
      }
    },
    {
      "cell_type": "code",
      "source": [
        "df[df['region']=='Friedrichsfelde'].head()"
      ],
      "metadata": {
        "id": "FKFZYLNT0vJF",
        "outputId": "88ce3b23-eed7-4378-b50b-d60a312d19d6",
        "colab": {
          "base_uri": "https://localhost:8080/",
          "height": 374
        }
      },
      "execution_count": 163,
      "outputs": [
        {
          "output_type": "execute_result",
          "data": {
            "text/plain": [
              "              region       condition  rooms     rent  year_construction  \\\n",
              "8    Friedrichsfelde       well_kept    2.0   561.93               1971   \n",
              "16   Friedrichsfelde  first_time_use    3.5  1429.10               2020   \n",
              "18   Friedrichsfelde  first_time_use    2.0   868.06               2020   \n",
              "67   Friedrichsfelde  first_time_use    4.0  1598.00               2016   \n",
              "169  Friedrichsfelde       well_kept    2.0   496.13               1971   \n",
              "\n",
              "      space  cold_rent utilities heating_costs security_deposit parking_space  \\\n",
              "8     62.40    391,93€     +110€          +60€             Drei           NaN   \n",
              "16    82.05  1.169,14€  +164,09€       +95,87€          3507.42           NaN   \n",
              "18    49.19    713,26€   +98,38€       +56,42€          2139.78           NaN   \n",
              "67   118.00     1.298€     +300€         nicht          2600,00            0€   \n",
              "169   55.00        NaN       NaN           NaN              NaN           NaN   \n",
              "\n",
              "     renovated_date property_condition         furnishing        heating_type  \\\n",
              "8               NaN            Groomed   Normale Qualität    District Heating   \n",
              "16              NaN                New  Gehobene Qualität        Not provided   \n",
              "18              NaN                New  Gehobene Qualität        Not provided   \n",
              "67              NaN                New  Gehobene Qualität  Underfloor Heating   \n",
              "169             NaN                NaN                NaN        Not provided   \n",
              "\n",
              "                         energy_sources energy_certificate  \\\n",
              "8    Fernwärme Energieausweis liegt vor          liegt vor   \n",
              "16                            Fernwärme                NaN   \n",
              "18                            Fernwärme                NaN   \n",
              "67   Fernwärme Energieausweis liegt vor          liegt vor   \n",
              "169                                 NaN                NaN   \n",
              "\n",
              "                                   type_of_certificate energy_requirement  \\\n",
              "8    Verbrauchsausweis Energie­ver­brauchs­kennwert...                NaN   \n",
              "16                                      Bedarfsausweis      40 kWh/(m²*a)   \n",
              "18                                      Bedarfsausweis      40 kWh/(m²*a)   \n",
              "67                                                 NaN                NaN   \n",
              "169                                                NaN                NaN   \n",
              "\n",
              "    efficiency_class  \n",
              "8                NaN  \n",
              "16               NaN  \n",
              "18               NaN  \n",
              "67               NaN  \n",
              "169              NaN  "
            ],
            "text/html": [
              "\n",
              "  <div id=\"df-db2dfd7c-40e6-414c-b0f5-9d311eda8084\">\n",
              "    <div class=\"colab-df-container\">\n",
              "      <div>\n",
              "<style scoped>\n",
              "    .dataframe tbody tr th:only-of-type {\n",
              "        vertical-align: middle;\n",
              "    }\n",
              "\n",
              "    .dataframe tbody tr th {\n",
              "        vertical-align: top;\n",
              "    }\n",
              "\n",
              "    .dataframe thead th {\n",
              "        text-align: right;\n",
              "    }\n",
              "</style>\n",
              "<table border=\"1\" class=\"dataframe\">\n",
              "  <thead>\n",
              "    <tr style=\"text-align: right;\">\n",
              "      <th></th>\n",
              "      <th>region</th>\n",
              "      <th>condition</th>\n",
              "      <th>rooms</th>\n",
              "      <th>rent</th>\n",
              "      <th>year_construction</th>\n",
              "      <th>space</th>\n",
              "      <th>cold_rent</th>\n",
              "      <th>utilities</th>\n",
              "      <th>heating_costs</th>\n",
              "      <th>security_deposit</th>\n",
              "      <th>parking_space</th>\n",
              "      <th>renovated_date</th>\n",
              "      <th>property_condition</th>\n",
              "      <th>furnishing</th>\n",
              "      <th>heating_type</th>\n",
              "      <th>energy_sources</th>\n",
              "      <th>energy_certificate</th>\n",
              "      <th>type_of_certificate</th>\n",
              "      <th>energy_requirement</th>\n",
              "      <th>efficiency_class</th>\n",
              "    </tr>\n",
              "  </thead>\n",
              "  <tbody>\n",
              "    <tr>\n",
              "      <th>8</th>\n",
              "      <td>Friedrichsfelde</td>\n",
              "      <td>well_kept</td>\n",
              "      <td>2.0</td>\n",
              "      <td>561.93</td>\n",
              "      <td>1971</td>\n",
              "      <td>62.40</td>\n",
              "      <td>391,93€</td>\n",
              "      <td>+110€</td>\n",
              "      <td>+60€</td>\n",
              "      <td>Drei</td>\n",
              "      <td>NaN</td>\n",
              "      <td>NaN</td>\n",
              "      <td>Groomed</td>\n",
              "      <td>Normale Qualität</td>\n",
              "      <td>District Heating</td>\n",
              "      <td>Fernwärme Energieausweis liegt vor</td>\n",
              "      <td>liegt vor</td>\n",
              "      <td>Verbrauchsausweis Energie­ver­brauchs­kennwert...</td>\n",
              "      <td>NaN</td>\n",
              "      <td>NaN</td>\n",
              "    </tr>\n",
              "    <tr>\n",
              "      <th>16</th>\n",
              "      <td>Friedrichsfelde</td>\n",
              "      <td>first_time_use</td>\n",
              "      <td>3.5</td>\n",
              "      <td>1429.10</td>\n",
              "      <td>2020</td>\n",
              "      <td>82.05</td>\n",
              "      <td>1.169,14€</td>\n",
              "      <td>+164,09€</td>\n",
              "      <td>+95,87€</td>\n",
              "      <td>3507.42</td>\n",
              "      <td>NaN</td>\n",
              "      <td>NaN</td>\n",
              "      <td>New</td>\n",
              "      <td>Gehobene Qualität</td>\n",
              "      <td>Not provided</td>\n",
              "      <td>Fernwärme</td>\n",
              "      <td>NaN</td>\n",
              "      <td>Bedarfsausweis</td>\n",
              "      <td>40 kWh/(m²*a)</td>\n",
              "      <td>NaN</td>\n",
              "    </tr>\n",
              "    <tr>\n",
              "      <th>18</th>\n",
              "      <td>Friedrichsfelde</td>\n",
              "      <td>first_time_use</td>\n",
              "      <td>2.0</td>\n",
              "      <td>868.06</td>\n",
              "      <td>2020</td>\n",
              "      <td>49.19</td>\n",
              "      <td>713,26€</td>\n",
              "      <td>+98,38€</td>\n",
              "      <td>+56,42€</td>\n",
              "      <td>2139.78</td>\n",
              "      <td>NaN</td>\n",
              "      <td>NaN</td>\n",
              "      <td>New</td>\n",
              "      <td>Gehobene Qualität</td>\n",
              "      <td>Not provided</td>\n",
              "      <td>Fernwärme</td>\n",
              "      <td>NaN</td>\n",
              "      <td>Bedarfsausweis</td>\n",
              "      <td>40 kWh/(m²*a)</td>\n",
              "      <td>NaN</td>\n",
              "    </tr>\n",
              "    <tr>\n",
              "      <th>67</th>\n",
              "      <td>Friedrichsfelde</td>\n",
              "      <td>first_time_use</td>\n",
              "      <td>4.0</td>\n",
              "      <td>1598.00</td>\n",
              "      <td>2016</td>\n",
              "      <td>118.00</td>\n",
              "      <td>1.298€</td>\n",
              "      <td>+300€</td>\n",
              "      <td>nicht</td>\n",
              "      <td>2600,00</td>\n",
              "      <td>0€</td>\n",
              "      <td>NaN</td>\n",
              "      <td>New</td>\n",
              "      <td>Gehobene Qualität</td>\n",
              "      <td>Underfloor Heating</td>\n",
              "      <td>Fernwärme Energieausweis liegt vor</td>\n",
              "      <td>liegt vor</td>\n",
              "      <td>NaN</td>\n",
              "      <td>NaN</td>\n",
              "      <td>NaN</td>\n",
              "    </tr>\n",
              "    <tr>\n",
              "      <th>169</th>\n",
              "      <td>Friedrichsfelde</td>\n",
              "      <td>well_kept</td>\n",
              "      <td>2.0</td>\n",
              "      <td>496.13</td>\n",
              "      <td>1971</td>\n",
              "      <td>55.00</td>\n",
              "      <td>NaN</td>\n",
              "      <td>NaN</td>\n",
              "      <td>NaN</td>\n",
              "      <td>NaN</td>\n",
              "      <td>NaN</td>\n",
              "      <td>NaN</td>\n",
              "      <td>NaN</td>\n",
              "      <td>NaN</td>\n",
              "      <td>Not provided</td>\n",
              "      <td>NaN</td>\n",
              "      <td>NaN</td>\n",
              "      <td>NaN</td>\n",
              "      <td>NaN</td>\n",
              "      <td>NaN</td>\n",
              "    </tr>\n",
              "  </tbody>\n",
              "</table>\n",
              "</div>\n",
              "      <button class=\"colab-df-convert\" onclick=\"convertToInteractive('df-db2dfd7c-40e6-414c-b0f5-9d311eda8084')\"\n",
              "              title=\"Convert this dataframe to an interactive table.\"\n",
              "              style=\"display:none;\">\n",
              "        \n",
              "  <svg xmlns=\"http://www.w3.org/2000/svg\" height=\"24px\"viewBox=\"0 0 24 24\"\n",
              "       width=\"24px\">\n",
              "    <path d=\"M0 0h24v24H0V0z\" fill=\"none\"/>\n",
              "    <path d=\"M18.56 5.44l.94 2.06.94-2.06 2.06-.94-2.06-.94-.94-2.06-.94 2.06-2.06.94zm-11 1L8.5 8.5l.94-2.06 2.06-.94-2.06-.94L8.5 2.5l-.94 2.06-2.06.94zm10 10l.94 2.06.94-2.06 2.06-.94-2.06-.94-.94-2.06-.94 2.06-2.06.94z\"/><path d=\"M17.41 7.96l-1.37-1.37c-.4-.4-.92-.59-1.43-.59-.52 0-1.04.2-1.43.59L10.3 9.45l-7.72 7.72c-.78.78-.78 2.05 0 2.83L4 21.41c.39.39.9.59 1.41.59.51 0 1.02-.2 1.41-.59l7.78-7.78 2.81-2.81c.8-.78.8-2.07 0-2.86zM5.41 20L4 18.59l7.72-7.72 1.47 1.35L5.41 20z\"/>\n",
              "  </svg>\n",
              "      </button>\n",
              "      \n",
              "  <style>\n",
              "    .colab-df-container {\n",
              "      display:flex;\n",
              "      flex-wrap:wrap;\n",
              "      gap: 12px;\n",
              "    }\n",
              "\n",
              "    .colab-df-convert {\n",
              "      background-color: #E8F0FE;\n",
              "      border: none;\n",
              "      border-radius: 50%;\n",
              "      cursor: pointer;\n",
              "      display: none;\n",
              "      fill: #1967D2;\n",
              "      height: 32px;\n",
              "      padding: 0 0 0 0;\n",
              "      width: 32px;\n",
              "    }\n",
              "\n",
              "    .colab-df-convert:hover {\n",
              "      background-color: #E2EBFA;\n",
              "      box-shadow: 0px 1px 2px rgba(60, 64, 67, 0.3), 0px 1px 3px 1px rgba(60, 64, 67, 0.15);\n",
              "      fill: #174EA6;\n",
              "    }\n",
              "\n",
              "    [theme=dark] .colab-df-convert {\n",
              "      background-color: #3B4455;\n",
              "      fill: #D2E3FC;\n",
              "    }\n",
              "\n",
              "    [theme=dark] .colab-df-convert:hover {\n",
              "      background-color: #434B5C;\n",
              "      box-shadow: 0px 1px 3px 1px rgba(0, 0, 0, 0.15);\n",
              "      filter: drop-shadow(0px 1px 2px rgba(0, 0, 0, 0.3));\n",
              "      fill: #FFFFFF;\n",
              "    }\n",
              "  </style>\n",
              "\n",
              "      <script>\n",
              "        const buttonEl =\n",
              "          document.querySelector('#df-db2dfd7c-40e6-414c-b0f5-9d311eda8084 button.colab-df-convert');\n",
              "        buttonEl.style.display =\n",
              "          google.colab.kernel.accessAllowed ? 'block' : 'none';\n",
              "\n",
              "        async function convertToInteractive(key) {\n",
              "          const element = document.querySelector('#df-db2dfd7c-40e6-414c-b0f5-9d311eda8084');\n",
              "          const dataTable =\n",
              "            await google.colab.kernel.invokeFunction('convertToInteractive',\n",
              "                                                     [key], {});\n",
              "          if (!dataTable) return;\n",
              "\n",
              "          const docLinkHtml = 'Like what you see? Visit the ' +\n",
              "            '<a target=\"_blank\" href=https://colab.research.google.com/notebooks/data_table.ipynb>data table notebook</a>'\n",
              "            + ' to learn more about interactive tables.';\n",
              "          element.innerHTML = '';\n",
              "          dataTable['output_type'] = 'display_data';\n",
              "          await google.colab.output.renderOutput(dataTable, element);\n",
              "          const docLink = document.createElement('div');\n",
              "          docLink.innerHTML = docLinkHtml;\n",
              "          element.appendChild(docLink);\n",
              "        }\n",
              "      </script>\n",
              "    </div>\n",
              "  </div>\n",
              "  "
            ]
          },
          "metadata": {},
          "execution_count": 163
        }
      ]
    },
    {
      "cell_type": "markdown",
      "source": [
        "# convert the mode renovated year in each region into a list to be used in a function"
      ],
      "metadata": {
        "id": "JB5c2twj9xJV"
      }
    },
    {
      "cell_type": "code",
      "source": [
        "list_region = [(i[0],i[1]) for i in df4.values]\n",
        "list_region"
      ],
      "metadata": {
        "id": "6taLZSrBagYt",
        "outputId": "87185e71-0fd9-4ed2-d4d5-d9c052754a77",
        "colab": {
          "base_uri": "https://localhost:8080/"
        }
      },
      "execution_count": 164,
      "outputs": [
        {
          "output_type": "execute_result",
          "data": {
            "text/plain": [
              "[('Charlottenburg', 2019.0),\n",
              " ('Kreuzberg', 2019.0),\n",
              " ('Köpenick', 2019.0),\n",
              " ('Mitte', 2020.0),\n",
              " ('Neukölln', 2019.0),\n",
              " ('Prenzlauer', 2019.0),\n",
              " ('Tiergarten', 2019.0),\n",
              " ('Wedding', 2018.0),\n",
              " ('Wilmersdorf', 2019.0)]"
            ]
          },
          "metadata": {},
          "execution_count": 164
        }
      ]
    },
    {
      "cell_type": "markdown",
      "source": [
        "# def a function to fill the missing renovated year with the mode in each region "
      ],
      "metadata": {
        "id": "7PXoyiZn97E4"
      }
    },
    {
      "cell_type": "code",
      "source": [
        "df['renovated_date'] = df['renovated_date'].fillna(0.0)"
      ],
      "metadata": {
        "id": "IYd_Y2GuyDb_"
      },
      "execution_count": 165,
      "outputs": []
    },
    {
      "cell_type": "code",
      "source": [
        "def get_date(row):\n",
        "  if row['renovated_date'] == 0.0:\n",
        "    for i in list_region:\n",
        "      if i[0] == row['region']:\n",
        "        return i[1]\n",
        "  return row['renovated_date']"
      ],
      "metadata": {
        "id": "HOB5ZBfqtWD9"
      },
      "execution_count": 166,
      "outputs": []
    },
    {
      "cell_type": "code",
      "source": [
        "df['renovated_date'] = df.apply(get_date,axis=1)"
      ],
      "metadata": {
        "id": "6nMWWCcovK8r"
      },
      "execution_count": 167,
      "outputs": []
    },
    {
      "cell_type": "code",
      "source": [
        "df['renovated_date'].value_counts(dropna=False)"
      ],
      "metadata": {
        "id": "HK1ZGP9uvdn4",
        "outputId": "5c3af16a-8382-4346-d188-8c690c08ac61",
        "colab": {
          "base_uri": "https://localhost:8080/"
        }
      },
      "execution_count": 168,
      "outputs": [
        {
          "output_type": "execute_result",
          "data": {
            "text/plain": [
              "2019.0    472\n",
              "2020.0    154\n",
              "0.0        52\n",
              "2018.0     49\n",
              "2016.0     13\n",
              "2017.0     12\n",
              "2015.0      4\n",
              "2011.0      2\n",
              "1995.0      2\n",
              "2014.0      1\n",
              "2010.0      1\n",
              "2006.0      1\n",
              "2012.0      1\n",
              "Name: renovated_date, dtype: int64"
            ]
          },
          "metadata": {},
          "execution_count": 168
        }
      ]
    },
    {
      "cell_type": "markdown",
      "source": [
        "# Fill the the region 'Friedrichsfelde', which has no renovated year with the year 2018 "
      ],
      "metadata": {
        "id": "fOTpgJ5G-G7o"
      }
    },
    {
      "cell_type": "code",
      "source": [
        "def f(row):\n",
        "  if row['renovated_date'] == 0.0:\n",
        "    return 2018.0\n",
        "  return row['renovated_date']\n",
        "  "
      ],
      "metadata": {
        "id": "08L7rM1SzyCP"
      },
      "execution_count": 169,
      "outputs": []
    },
    {
      "cell_type": "code",
      "source": [
        "df['renovated_date'] = df.apply(f,axis=1)"
      ],
      "metadata": {
        "id": "Ut9v0s9j2vzO"
      },
      "execution_count": 170,
      "outputs": []
    },
    {
      "cell_type": "markdown",
      "source": [
        "# Completed renovated_year column, filled with the mode of each region. "
      ],
      "metadata": {
        "id": "XtgTDN3_-Xnz"
      }
    },
    {
      "cell_type": "code",
      "source": [
        "df['renovated_date'].value_counts()"
      ],
      "metadata": {
        "id": "_AymDPOd3B8M",
        "outputId": "2b923137-e9d2-4271-b739-f4dd3d3ad3e2",
        "colab": {
          "base_uri": "https://localhost:8080/"
        }
      },
      "execution_count": 171,
      "outputs": [
        {
          "output_type": "execute_result",
          "data": {
            "text/plain": [
              "2019.0    472\n",
              "2020.0    154\n",
              "2018.0    101\n",
              "2016.0     13\n",
              "2017.0     12\n",
              "2015.0      4\n",
              "2011.0      2\n",
              "1995.0      2\n",
              "2014.0      1\n",
              "2010.0      1\n",
              "2006.0      1\n",
              "2012.0      1\n",
              "Name: renovated_date, dtype: int64"
            ]
          },
          "metadata": {},
          "execution_count": 171
        }
      ]
    },
    {
      "cell_type": "markdown",
      "metadata": {
        "id": "BMqdgnI3Y7BN"
      },
      "source": [
        "## 3. Clean: `parking_space`\n",
        "\n"
      ]
    },
    {
      "cell_type": "code",
      "metadata": {
        "id": "PjMfP4MvY5Fr",
        "outputId": "3d23bec7-0ae2-469d-b5c7-09e1da7eb2eb",
        "colab": {
          "base_uri": "https://localhost:8080/"
        }
      },
      "source": [
        "df.parking_space.value_counts(dropna=False)"
      ],
      "execution_count": 172,
      "outputs": [
        {
          "output_type": "execute_result",
          "data": {
            "text/plain": [
              "NaN       674\n",
              "120€       20\n",
              "150€       18\n",
              "100€       14\n",
              "130€        5\n",
              "90€         5\n",
              "350€        5\n",
              "0€          4\n",
              "280€        3\n",
              "220€        2\n",
              "75€         2\n",
              "200€        2\n",
              "60€         1\n",
              "119€        1\n",
              "70€         1\n",
              "110€        1\n",
              "145€        1\n",
              "166,6€      1\n",
              "180€        1\n",
              "250€        1\n",
              "149€        1\n",
              "140€        1\n",
              "Name: parking_space, dtype: int64"
            ]
          },
          "metadata": {},
          "execution_count": 172
        }
      ]
    },
    {
      "cell_type": "markdown",
      "source": [
        "# Calculate the mean of the non null values "
      ],
      "metadata": {
        "id": "_NievdJ-oOLO"
      }
    },
    {
      "cell_type": "code",
      "source": [
        "hh = df[['parking_space']]\n",
        "g = hh[hh['parking_space'].notna()]\n",
        "f = sum([float(i[0].replace(\"€\",\"\").replace(\",\",\".\")) for i in g.values])/len([float(i[0].replace(\"€\",\"\").replace(\",\",\".\")) for i in g.values])"
      ],
      "metadata": {
        "id": "_YmvMcYlDqXa"
      },
      "execution_count": 173,
      "outputs": []
    },
    {
      "cell_type": "code",
      "source": [
        "f = int(f)"
      ],
      "metadata": {
        "id": "a9X13F5GDv-k"
      },
      "execution_count": 174,
      "outputs": []
    },
    {
      "cell_type": "code",
      "source": [
        "f"
      ],
      "metadata": {
        "id": "pNpmFx5-DnBf",
        "outputId": "e1e9b176-fb81-4f21-da80-c0d5d7a64a18",
        "colab": {
          "base_uri": "https://localhost:8080/"
        }
      },
      "execution_count": 175,
      "outputs": [
        {
          "output_type": "execute_result",
          "data": {
            "text/plain": [
              "139"
            ]
          },
          "metadata": {},
          "execution_count": 175
        }
      ]
    },
    {
      "cell_type": "markdown",
      "source": [
        "# Fill na with the mean"
      ],
      "metadata": {
        "id": "fumPX3JUoYdD"
      }
    },
    {
      "cell_type": "code",
      "source": [
        "df['parking_space'] = df['parking_space'].fillna(f)"
      ],
      "metadata": {
        "id": "adKdKrZgTDn7"
      },
      "execution_count": 176,
      "outputs": []
    },
    {
      "cell_type": "markdown",
      "source": [
        "# Convert to float "
      ],
      "metadata": {
        "id": "Q2JpUL7tZibC"
      }
    },
    {
      "cell_type": "code",
      "source": [
        "def convert(row):\n",
        "  if type(row['parking_space']) != int:\n",
        "    return float(row['parking_space'].replace(\"€\",\"\").replace(\",\",\".\"))\n",
        "  return row['parking_space']"
      ],
      "metadata": {
        "id": "0QqEv_dXDjAy"
      },
      "execution_count": 177,
      "outputs": []
    },
    {
      "cell_type": "code",
      "source": [
        "df['parking_space'] = df.apply(convert,axis=1)"
      ],
      "metadata": {
        "id": "3YmzjEFUDll1"
      },
      "execution_count": 178,
      "outputs": []
    },
    {
      "cell_type": "code",
      "source": [
        "df.parking_space.value_counts()"
      ],
      "metadata": {
        "id": "YRm5s-0QDj2q",
        "outputId": "8673d850-ce96-4815-b6b4-09c039636140",
        "colab": {
          "base_uri": "https://localhost:8080/"
        }
      },
      "execution_count": 179,
      "outputs": [
        {
          "output_type": "execute_result",
          "data": {
            "text/plain": [
              "139.0    674\n",
              "120.0     20\n",
              "150.0     18\n",
              "100.0     14\n",
              "130.0      5\n",
              "90.0       5\n",
              "350.0      5\n",
              "0.0        4\n",
              "280.0      3\n",
              "220.0      2\n",
              "75.0       2\n",
              "200.0      2\n",
              "60.0       1\n",
              "119.0      1\n",
              "70.0       1\n",
              "110.0      1\n",
              "145.0      1\n",
              "166.6      1\n",
              "180.0      1\n",
              "250.0      1\n",
              "149.0      1\n",
              "140.0      1\n",
              "Name: parking_space, dtype: int64"
            ]
          },
          "metadata": {},
          "execution_count": 179
        }
      ]
    },
    {
      "cell_type": "code",
      "source": [
        ""
      ],
      "metadata": {
        "id": "vIAwuYoZDj6L"
      },
      "execution_count": null,
      "outputs": []
    },
    {
      "cell_type": "markdown",
      "metadata": {
        "id": "d-FJavHVZM16"
      },
      "source": [
        "## 4. Clean: `utilities`\n",
        "\n"
      ]
    },
    {
      "cell_type": "code",
      "metadata": {
        "id": "1gCHzQ5JY5IS",
        "outputId": "ec2b9a62-52bc-476e-cc6c-27359ecc0afa",
        "colab": {
          "base_uri": "https://localhost:8080/"
        }
      },
      "source": [
        "df.utilities.value_counts(dropna=False)"
      ],
      "execution_count": null,
      "outputs": [
        {
          "output_type": "execute_result",
          "data": {
            "text/plain": [
              "NaN         338\n",
              "+250€        16\n",
              "+200€        14\n",
              "+120€        10\n",
              "keine         9\n",
              "           ... \n",
              "+200,13€      1\n",
              "+560€         1\n",
              "+410€         1\n",
              "+356€         1\n",
              "+63€          1\n",
              "Name: utilities, Length: 262, dtype: int64"
            ]
          },
          "metadata": {},
          "execution_count": 109
        }
      ]
    },
    {
      "cell_type": "markdown",
      "source": [
        "# Replace the string 'Keine' with 0\n"
      ],
      "metadata": {
        "id": "YA7Q238_o5nA"
      }
    },
    {
      "cell_type": "code",
      "source": [
        "df['utilities'] = df.apply(lambda row: \"0\" if row['utilities'] == \"keine\" else row['utilities'],axis=1)"
      ],
      "metadata": {
        "id": "knkYo49fOTzc"
      },
      "execution_count": null,
      "outputs": []
    },
    {
      "cell_type": "code",
      "source": [
        "df.utilities.value_counts()"
      ],
      "metadata": {
        "id": "852NzT9TPQPJ",
        "outputId": "ddb5db4a-7d51-4d27-e9bf-8947f4252301",
        "colab": {
          "base_uri": "https://localhost:8080/"
        }
      },
      "execution_count": null,
      "outputs": [
        {
          "output_type": "execute_result",
          "data": {
            "text/plain": [
              "+250€       16\n",
              "+200€       14\n",
              "+120€       10\n",
              "0            9\n",
              "+350€        7\n",
              "            ..\n",
              "+200,13€     1\n",
              "+560€        1\n",
              "+410€        1\n",
              "+356€        1\n",
              "+63€         1\n",
              "Name: utilities, Length: 261, dtype: int64"
            ]
          },
          "metadata": {},
          "execution_count": 111
        }
      ]
    },
    {
      "cell_type": "markdown",
      "source": [
        "# Calculate the mean of notna values "
      ],
      "metadata": {
        "id": "pAXmgl_cpIZV"
      }
    },
    {
      "cell_type": "code",
      "source": [
        "a = df[['utilities']]\n",
        "c = a[a['utilities'].notna()]\n",
        "ut = sum([float(i[0].replace(\"€\",\"\").replace('.', '').replace(\",\",\".\").replace('+', '')) for i in c.values])/len([float(i[0].replace(\"€\",\"\").replace('.', '').replace(\",\",\".\").replace('+', '')) for i in c.values])"
      ],
      "metadata": {
        "id": "W9KLE72oNcRH"
      },
      "execution_count": null,
      "outputs": []
    },
    {
      "cell_type": "code",
      "source": [
        "ut=int(ut)\n",
        "ut"
      ],
      "metadata": {
        "id": "178QQ7eINZdj",
        "outputId": "bcb8dc71-eeaf-4a0d-ee92-553f442af907",
        "colab": {
          "base_uri": "https://localhost:8080/"
        }
      },
      "execution_count": null,
      "outputs": [
        {
          "output_type": "execute_result",
          "data": {
            "text/plain": [
              "223"
            ]
          },
          "metadata": {},
          "execution_count": 113
        }
      ]
    },
    {
      "cell_type": "markdown",
      "source": [
        "# Fill Na with the mean"
      ],
      "metadata": {
        "id": "872htR6opRs4"
      }
    },
    {
      "cell_type": "code",
      "source": [
        "df['utilities'] = df['utilities'].fillna(ut)"
      ],
      "metadata": {
        "id": "g9EnSRn6TOys"
      },
      "execution_count": null,
      "outputs": []
    },
    {
      "cell_type": "code",
      "source": [
        "def convert(row):\n",
        "  if type(row['utilities']) != int:\n",
        "    return float(row['utilities'].replace(\"€\",\"\").replace('.', '').replace(\",\",\".\").replace('+', ''))\n",
        "  return row['utilities']"
      ],
      "metadata": {
        "id": "lIlysj0RRc4l"
      },
      "execution_count": null,
      "outputs": []
    },
    {
      "cell_type": "code",
      "source": [
        "df['utilities'] = df.apply(convert,axis=1)"
      ],
      "metadata": {
        "id": "5P14waJRSS54"
      },
      "execution_count": null,
      "outputs": []
    },
    {
      "cell_type": "code",
      "source": [
        "df.utilities.value_counts()"
      ],
      "metadata": {
        "id": "QzuuzkmxTWjb",
        "outputId": "c6eca4bc-42c4-4943-a5f5-ce759e2c1811",
        "colab": {
          "base_uri": "https://localhost:8080/"
        }
      },
      "execution_count": null,
      "outputs": [
        {
          "output_type": "execute_result",
          "data": {
            "text/plain": [
              "223.00    338\n",
              "250.00     16\n",
              "200.00     14\n",
              "0.00       14\n",
              "120.00     10\n",
              "         ... \n",
              "200.13      1\n",
              "560.00      1\n",
              "410.00      1\n",
              "356.00      1\n",
              "63.00       1\n",
              "Name: utilities, Length: 261, dtype: int64"
            ]
          },
          "metadata": {},
          "execution_count": 117
        }
      ]
    },
    {
      "cell_type": "markdown",
      "metadata": {
        "id": "BZrL7CM4ZRuA"
      },
      "source": [
        "## 5. Clean: `energy_requirement`\n"
      ]
    },
    {
      "cell_type": "code",
      "metadata": {
        "id": "A__3sJhWZR3P",
        "outputId": "7627453c-515b-4ab9-cd1a-e2c4f8e171a8",
        "colab": {
          "base_uri": "https://localhost:8080/"
        }
      },
      "source": [
        "df.energy_requirement.value_counts(dropna=False)"
      ],
      "execution_count": 180,
      "outputs": [
        {
          "output_type": "execute_result",
          "data": {
            "text/plain": [
              "NaN                 438\n",
              "66,2 kWh/(m²*a)      26\n",
              "61 kWh/(m²*a)        21\n",
              "75,9 kWh/(m²*a)      20\n",
              "74,6 kWh/(m²*a)      15\n",
              "                   ... \n",
              "56,88 kWh/(m²*a)      1\n",
              "139 kWh/(m²*a)        1\n",
              "148,7 kWh/(m²*a)      1\n",
              "70,3 kWh/(m²*a)       1\n",
              "51,43 kWh/(m²*a)      1\n",
              "Name: energy_requirement, Length: 114, dtype: int64"
            ]
          },
          "metadata": {},
          "execution_count": 180
        }
      ]
    },
    {
      "cell_type": "code",
      "source": [
        "tz=df[['energy_requirement','heating_type']].head()\n",
        "tz"
      ],
      "metadata": {
        "colab": {
          "base_uri": "https://localhost:8080/",
          "height": 206
        },
        "id": "aUwahKUM4Eqd",
        "outputId": "ad5afb57-2776-46f8-a4cf-c64705b653ca"
      },
      "execution_count": 181,
      "outputs": [
        {
          "output_type": "execute_result",
          "data": {
            "text/plain": [
              "  energy_requirement        heating_type\n",
              "0                NaN  Underfloor Heating\n",
              "1                NaN     Central Heating\n",
              "2                NaN     Central Heating\n",
              "3                NaN        Not provided\n",
              "4                NaN     Central Heating"
            ],
            "text/html": [
              "\n",
              "  <div id=\"df-2d51953e-9db7-43e8-8f88-71d2434e4827\">\n",
              "    <div class=\"colab-df-container\">\n",
              "      <div>\n",
              "<style scoped>\n",
              "    .dataframe tbody tr th:only-of-type {\n",
              "        vertical-align: middle;\n",
              "    }\n",
              "\n",
              "    .dataframe tbody tr th {\n",
              "        vertical-align: top;\n",
              "    }\n",
              "\n",
              "    .dataframe thead th {\n",
              "        text-align: right;\n",
              "    }\n",
              "</style>\n",
              "<table border=\"1\" class=\"dataframe\">\n",
              "  <thead>\n",
              "    <tr style=\"text-align: right;\">\n",
              "      <th></th>\n",
              "      <th>energy_requirement</th>\n",
              "      <th>heating_type</th>\n",
              "    </tr>\n",
              "  </thead>\n",
              "  <tbody>\n",
              "    <tr>\n",
              "      <th>0</th>\n",
              "      <td>NaN</td>\n",
              "      <td>Underfloor Heating</td>\n",
              "    </tr>\n",
              "    <tr>\n",
              "      <th>1</th>\n",
              "      <td>NaN</td>\n",
              "      <td>Central Heating</td>\n",
              "    </tr>\n",
              "    <tr>\n",
              "      <th>2</th>\n",
              "      <td>NaN</td>\n",
              "      <td>Central Heating</td>\n",
              "    </tr>\n",
              "    <tr>\n",
              "      <th>3</th>\n",
              "      <td>NaN</td>\n",
              "      <td>Not provided</td>\n",
              "    </tr>\n",
              "    <tr>\n",
              "      <th>4</th>\n",
              "      <td>NaN</td>\n",
              "      <td>Central Heating</td>\n",
              "    </tr>\n",
              "  </tbody>\n",
              "</table>\n",
              "</div>\n",
              "      <button class=\"colab-df-convert\" onclick=\"convertToInteractive('df-2d51953e-9db7-43e8-8f88-71d2434e4827')\"\n",
              "              title=\"Convert this dataframe to an interactive table.\"\n",
              "              style=\"display:none;\">\n",
              "        \n",
              "  <svg xmlns=\"http://www.w3.org/2000/svg\" height=\"24px\"viewBox=\"0 0 24 24\"\n",
              "       width=\"24px\">\n",
              "    <path d=\"M0 0h24v24H0V0z\" fill=\"none\"/>\n",
              "    <path d=\"M18.56 5.44l.94 2.06.94-2.06 2.06-.94-2.06-.94-.94-2.06-.94 2.06-2.06.94zm-11 1L8.5 8.5l.94-2.06 2.06-.94-2.06-.94L8.5 2.5l-.94 2.06-2.06.94zm10 10l.94 2.06.94-2.06 2.06-.94-2.06-.94-.94-2.06-.94 2.06-2.06.94z\"/><path d=\"M17.41 7.96l-1.37-1.37c-.4-.4-.92-.59-1.43-.59-.52 0-1.04.2-1.43.59L10.3 9.45l-7.72 7.72c-.78.78-.78 2.05 0 2.83L4 21.41c.39.39.9.59 1.41.59.51 0 1.02-.2 1.41-.59l7.78-7.78 2.81-2.81c.8-.78.8-2.07 0-2.86zM5.41 20L4 18.59l7.72-7.72 1.47 1.35L5.41 20z\"/>\n",
              "  </svg>\n",
              "      </button>\n",
              "      \n",
              "  <style>\n",
              "    .colab-df-container {\n",
              "      display:flex;\n",
              "      flex-wrap:wrap;\n",
              "      gap: 12px;\n",
              "    }\n",
              "\n",
              "    .colab-df-convert {\n",
              "      background-color: #E8F0FE;\n",
              "      border: none;\n",
              "      border-radius: 50%;\n",
              "      cursor: pointer;\n",
              "      display: none;\n",
              "      fill: #1967D2;\n",
              "      height: 32px;\n",
              "      padding: 0 0 0 0;\n",
              "      width: 32px;\n",
              "    }\n",
              "\n",
              "    .colab-df-convert:hover {\n",
              "      background-color: #E2EBFA;\n",
              "      box-shadow: 0px 1px 2px rgba(60, 64, 67, 0.3), 0px 1px 3px 1px rgba(60, 64, 67, 0.15);\n",
              "      fill: #174EA6;\n",
              "    }\n",
              "\n",
              "    [theme=dark] .colab-df-convert {\n",
              "      background-color: #3B4455;\n",
              "      fill: #D2E3FC;\n",
              "    }\n",
              "\n",
              "    [theme=dark] .colab-df-convert:hover {\n",
              "      background-color: #434B5C;\n",
              "      box-shadow: 0px 1px 3px 1px rgba(0, 0, 0, 0.15);\n",
              "      filter: drop-shadow(0px 1px 2px rgba(0, 0, 0, 0.3));\n",
              "      fill: #FFFFFF;\n",
              "    }\n",
              "  </style>\n",
              "\n",
              "      <script>\n",
              "        const buttonEl =\n",
              "          document.querySelector('#df-2d51953e-9db7-43e8-8f88-71d2434e4827 button.colab-df-convert');\n",
              "        buttonEl.style.display =\n",
              "          google.colab.kernel.accessAllowed ? 'block' : 'none';\n",
              "\n",
              "        async function convertToInteractive(key) {\n",
              "          const element = document.querySelector('#df-2d51953e-9db7-43e8-8f88-71d2434e4827');\n",
              "          const dataTable =\n",
              "            await google.colab.kernel.invokeFunction('convertToInteractive',\n",
              "                                                     [key], {});\n",
              "          if (!dataTable) return;\n",
              "\n",
              "          const docLinkHtml = 'Like what you see? Visit the ' +\n",
              "            '<a target=\"_blank\" href=https://colab.research.google.com/notebooks/data_table.ipynb>data table notebook</a>'\n",
              "            + ' to learn more about interactive tables.';\n",
              "          element.innerHTML = '';\n",
              "          dataTable['output_type'] = 'display_data';\n",
              "          await google.colab.output.renderOutput(dataTable, element);\n",
              "          const docLink = document.createElement('div');\n",
              "          docLink.innerHTML = docLinkHtml;\n",
              "          element.appendChild(docLink);\n",
              "        }\n",
              "      </script>\n",
              "    </div>\n",
              "  </div>\n",
              "  "
            ]
          },
          "metadata": {},
          "execution_count": 181
        }
      ]
    },
    {
      "cell_type": "code",
      "source": [
        "df.columns"
      ],
      "metadata": {
        "colab": {
          "base_uri": "https://localhost:8080/"
        },
        "id": "YeSaFny8-oMr",
        "outputId": "a548f5a3-d3bc-4ca1-e626-064e04109b52"
      },
      "execution_count": 182,
      "outputs": [
        {
          "output_type": "execute_result",
          "data": {
            "text/plain": [
              "Index(['region', 'condition', 'rooms', 'rent', 'year_construction', 'space',\n",
              "       'cold_rent', 'utilities', 'heating_costs', 'security_deposit',\n",
              "       'parking_space', 'renovated_date', 'property_condition', 'furnishing',\n",
              "       'heating_type', 'energy_sources', 'energy_certificate',\n",
              "       'type_of_certificate', 'energy_requirement', 'efficiency_class'],\n",
              "      dtype='object')"
            ]
          },
          "metadata": {},
          "execution_count": 182
        }
      ]
    },
    {
      "cell_type": "markdown",
      "source": [
        "# Remove string kWh/(m²*a)"
      ],
      "metadata": {
        "id": "rinJvQCMqi1g"
      }
    },
    {
      "cell_type": "code",
      "source": [
        "type(str(np.nan))"
      ],
      "metadata": {
        "colab": {
          "base_uri": "https://localhost:8080/"
        },
        "id": "gufXaQtc7tHs",
        "outputId": "89d54d3a-e783-4b07-b2f9-0da0cb8edf1e"
      },
      "execution_count": 183,
      "outputs": [
        {
          "output_type": "execute_result",
          "data": {
            "text/plain": [
              "str"
            ]
          },
          "metadata": {},
          "execution_count": 183
        }
      ]
    },
    {
      "cell_type": "code",
      "source": [
        "def remove_strings(value, strings_to_remove):\n",
        "    \"\"\"\n",
        "    Remove strings in <strings_to_remove> from <value>. \n",
        "    Removes Euro/euro strings by default. \n",
        "    Assumes that each string occurs only once.\n",
        "    \"\"\"\n",
        "    \n",
        "    # return NaN if value is missing\n",
        "    if pd.isna(value): return np.nan\n",
        "    \n",
        "    # cast to string so that string methods work\n",
        "    value = str(value)\n",
        "    \n",
        "    # remove different strings\n",
        "    for string in strings_to_remove:\n",
        "        value = value.lower().replace(string, '').strip()\n",
        "    \n",
        "    return value"
      ],
      "metadata": {
        "id": "F7jjJEPuqsRY"
      },
      "execution_count": 184,
      "outputs": []
    },
    {
      "cell_type": "code",
      "source": [
        "df['energy_requirement'] = df.energy_requirement.apply(remove_strings, args=(['kh/(m²*a)', 'w'],)).astype(str)"
      ],
      "metadata": {
        "id": "oT8T-RjFv-mc"
      },
      "execution_count": 187,
      "outputs": []
    },
    {
      "cell_type": "code",
      "source": [
        "df.energy_requirement.unique()"
      ],
      "metadata": {
        "colab": {
          "base_uri": "https://localhost:8080/"
        },
        "id": "ZeACrigdrfHR",
        "outputId": "704ac628-e9e0-4ee0-afc8-26c9a561b9e1"
      },
      "execution_count": 188,
      "outputs": [
        {
          "output_type": "execute_result",
          "data": {
            "text/plain": [
              "array(['nan', '81,6', '64,2', '66,2', '40', '51', '81', '58', '80', '50',\n",
              "       '102', '113', '68', '16,3', '76,9', '79', '149', '74', '66,7',\n",
              "       '61', '118,2', '70', '45,7', '61,7', '60', '116', '35,61', '53',\n",
              "       '36,61', '34,6', '42,6', '101,19', '61,9', '128,1', '54,9', '69',\n",
              "       '59,8', '67', '66', '113,7', '74,6', '65,99', '150,4', '70,3',\n",
              "       '40,41', '148,7', '170', '62,2', '228', '134,5', '76', '77,3',\n",
              "       '139', '59', '80,5', '56,88', '76,4', '42,8', '28', '54', '70,8',\n",
              "       '65', '135,9', '163,5', '118', '82,4', '132', '87,8', '158,6',\n",
              "       '160,8', '155,5', '70,4', '72', '64,1', '30', '62,8', '39,5',\n",
              "       '49,5', '71,4', '125', '23,3', '104,6', '92', '236,68', '38,5',\n",
              "       '112', '59,9', '31,4', '157,7', '52,2', '49,2', '48', '100', '55',\n",
              "       '103', '64,3', '52', '49', '239,2', '60,1', '59,1', '119', '75,9',\n",
              "       '237,7', '47', '22,8', '42', '62', '71,9', '79,9', '44,5', '83,3',\n",
              "       '151,8', '51,43'], dtype=object)"
            ]
          },
          "metadata": {},
          "execution_count": 188
        }
      ]
    },
    {
      "cell_type": "markdown",
      "source": [
        "# Replace ',' with '.'"
      ],
      "metadata": {
        "id": "9X4yRpK3sYsr"
      }
    },
    {
      "cell_type": "code",
      "source": [
        "def convert_string_to_float(value):\n",
        "    return value.replace(\",\", \".\")\n",
        "\n",
        "def convert_decimal(value):\n",
        "    if pd.isna(value):\n",
        "        return np.nan       \n",
        "\n",
        "    try:                               \n",
        "        return float(value)\n",
        "    except:\n",
        "        return convert_string_to_float(value)"
      ],
      "metadata": {
        "id": "AaHvJJZ5sOCo"
      },
      "execution_count": 189,
      "outputs": []
    },
    {
      "cell_type": "code",
      "source": [
        "df['energy_requirement'] = df.energy_requirement.apply(convert_decimal)"
      ],
      "metadata": {
        "id": "goJtjU1EsXiN"
      },
      "execution_count": 190,
      "outputs": []
    },
    {
      "cell_type": "code",
      "source": [
        "df.energy_requirement.unique()"
      ],
      "metadata": {
        "colab": {
          "base_uri": "https://localhost:8080/"
        },
        "id": "5Mj1T-pvuBAB",
        "outputId": "0594b17c-ac92-43ec-85ad-203ef591ee22"
      },
      "execution_count": 191,
      "outputs": [
        {
          "output_type": "execute_result",
          "data": {
            "text/plain": [
              "array([nan, '81.6', '64.2', '66.2', 40.0, 51.0, 81.0, 58.0, 80.0, 50.0,\n",
              "       102.0, 113.0, 68.0, '16.3', '76.9', 79.0, 149.0, 74.0, '66.7',\n",
              "       61.0, '118.2', 70.0, '45.7', '61.7', 60.0, 116.0, '35.61', 53.0,\n",
              "       '36.61', '34.6', '42.6', '101.19', '61.9', '128.1', '54.9', 69.0,\n",
              "       '59.8', 67.0, 66.0, '113.7', '74.6', '65.99', '150.4', '70.3',\n",
              "       '40.41', '148.7', 170.0, '62.2', 228.0, '134.5', 76.0, '77.3',\n",
              "       139.0, 59.0, '80.5', '56.88', '76.4', '42.8', 28.0, 54.0, '70.8',\n",
              "       65.0, '135.9', '163.5', 118.0, '82.4', 132.0, '87.8', '158.6',\n",
              "       '160.8', '155.5', '70.4', 72.0, '64.1', 30.0, '62.8', '39.5',\n",
              "       '49.5', '71.4', 125.0, '23.3', '104.6', 92.0, '236.68', '38.5',\n",
              "       112.0, '59.9', '31.4', '157.7', '52.2', '49.2', 48.0, 100.0, 55.0,\n",
              "       103.0, '64.3', 52.0, 49.0, '239.2', '60.1', '59.1', 119.0, '75.9',\n",
              "       '237.7', 47.0, '22.8', 42.0, 62.0, '71.9', '79.9', '44.5', '83.3',\n",
              "       '151.8', '51.43'], dtype=object)"
            ]
          },
          "metadata": {},
          "execution_count": 191
        }
      ]
    },
    {
      "cell_type": "code",
      "source": [
        "df['energy_requirement'].isnull().sum()"
      ],
      "metadata": {
        "colab": {
          "base_uri": "https://localhost:8080/"
        },
        "id": "EJ2d6kTOxl7i",
        "outputId": "2f7d1f8e-4cab-4c97-c647-4b45b8a3e9c1"
      },
      "execution_count": 192,
      "outputs": [
        {
          "output_type": "execute_result",
          "data": {
            "text/plain": [
              "438"
            ]
          },
          "metadata": {},
          "execution_count": 192
        }
      ]
    },
    {
      "cell_type": "markdown",
      "source": [
        "# Convert value from object to float "
      ],
      "metadata": {
        "id": "jvxDfm3JQjge"
      }
    },
    {
      "cell_type": "code",
      "source": [
        "def is_float(value):\n",
        "    try:\n",
        "        float(value)\n",
        "        return True\n",
        "    except:\n",
        "        return False\n",
        "def convert_to_float(value):\n",
        "    if is_float(value):\n",
        "        return float(value)\n",
        "    else:\n",
        "        return np.nan"
      ],
      "metadata": {
        "id": "-qqJVcf5MO2j"
      },
      "execution_count": 197,
      "outputs": []
    },
    {
      "cell_type": "code",
      "source": [
        "df['energy_requirement']=df.energy_requirement.apply(convert_to_float)"
      ],
      "metadata": {
        "id": "XESg4SgJMSyK"
      },
      "execution_count": 198,
      "outputs": []
    },
    {
      "cell_type": "code",
      "source": [
        "df.energy_requirement"
      ],
      "metadata": {
        "colab": {
          "base_uri": "https://localhost:8080/"
        },
        "id": "Q7uot14tMwfC",
        "outputId": "750ec0fb-9df6-4db3-d162-1ebcb4ac1477"
      },
      "execution_count": 199,
      "outputs": [
        {
          "output_type": "execute_result",
          "data": {
            "text/plain": [
              "0       NaN\n",
              "1       NaN\n",
              "2       NaN\n",
              "3       NaN\n",
              "4       NaN\n",
              "       ... \n",
              "759    61.0\n",
              "760     NaN\n",
              "761     NaN\n",
              "762    66.0\n",
              "763     NaN\n",
              "Name: energy_requirement, Length: 764, dtype: float64"
            ]
          },
          "metadata": {},
          "execution_count": 199
        }
      ]
    },
    {
      "cell_type": "markdown",
      "source": [
        "# Calculate the mean of the non null values"
      ],
      "metadata": {
        "id": "y6VPkQllv_FD"
      }
    },
    {
      "cell_type": "code",
      "source": [
        "energy = df[['energy_requirement']]\n",
        "ave = energy[energy['energy_requirement'].notna()].mean()\n",
        "ave=ave.round(2)\n",
        "ave=int(ave)"
      ],
      "metadata": {
        "id": "CMicE_n6MN4V"
      },
      "execution_count": 210,
      "outputs": []
    },
    {
      "cell_type": "code",
      "source": [
        "ave"
      ],
      "metadata": {
        "colab": {
          "base_uri": "https://localhost:8080/"
        },
        "id": "Ot4IiV9aapa-",
        "outputId": "3cff59a2-bd61-4427-82f6-b5822a1d8d9a"
      },
      "execution_count": 211,
      "outputs": [
        {
          "output_type": "execute_result",
          "data": {
            "text/plain": [
              "79"
            ]
          },
          "metadata": {},
          "execution_count": 211
        }
      ]
    },
    {
      "cell_type": "markdown",
      "source": [
        "# Fill the missing value with mean"
      ],
      "metadata": {
        "id": "fHp6UiUyPupL"
      }
    },
    {
      "cell_type": "code",
      "source": [
        "df['energy_requirement']=df['energy_requirement'].fillna(ave)"
      ],
      "metadata": {
        "id": "_C6ta6j2MN_w"
      },
      "execution_count": 212,
      "outputs": []
    },
    {
      "cell_type": "code",
      "source": [
        "df['energy_requirement'].value_counts(dropna=False)"
      ],
      "metadata": {
        "colab": {
          "base_uri": "https://localhost:8080/"
        },
        "id": "A1LLWnTjMODO",
        "outputId": "8428281c-2eaf-4f55-8aa7-70803f8220d2"
      },
      "execution_count": 213,
      "outputs": [
        {
          "output_type": "execute_result",
          "data": {
            "text/plain": [
              "79.00     441\n",
              "66.20      26\n",
              "61.00      21\n",
              "75.90      20\n",
              "74.60      15\n",
              "         ... \n",
              "56.88       1\n",
              "139.00      1\n",
              "148.70      1\n",
              "70.30       1\n",
              "51.43       1\n",
              "Name: energy_requirement, Length: 113, dtype: int64"
            ]
          },
          "metadata": {},
          "execution_count": 213
        }
      ]
    },
    {
      "cell_type": "code",
      "source": [
        "df['energy_requirement'].isnull().sum()"
      ],
      "metadata": {
        "colab": {
          "base_uri": "https://localhost:8080/"
        },
        "id": "42Jyyof5PUHq",
        "outputId": "1478efb9-f929-4037-d330-1ec1de8d186e"
      },
      "execution_count": 214,
      "outputs": [
        {
          "output_type": "execute_result",
          "data": {
            "text/plain": [
              "0"
            ]
          },
          "metadata": {},
          "execution_count": 214
        }
      ]
    },
    {
      "cell_type": "code",
      "source": [
        "#px.histogram(df, x='energy_requirement', marginal='box')"
      ],
      "metadata": {
        "id": "oJE91WO1XwAY"
      },
      "execution_count": null,
      "outputs": []
    },
    {
      "cell_type": "markdown",
      "metadata": {
        "id": "HtIY4a3v9uas"
      },
      "source": [
        "## (Bonus) Clean: `type_of_certificate`\n",
        "\n",
        "Hint: could two features be created from this data?\n",
        "\n",
        "As with before, explain why you chose your strategy :)"
      ]
    },
    {
      "cell_type": "code",
      "metadata": {
        "id": "letuSY50-9w3",
        "outputId": "46a6649f-7950-4ec6-895b-0f283127d4b3",
        "colab": {
          "base_uri": "https://localhost:8080/"
        }
      },
      "source": [
        "df.type_of_certificate.value_counts(dropna=False)"
      ],
      "execution_count": null,
      "outputs": [
        {
          "output_type": "execute_result",
          "data": {
            "text/plain": [
              "Bedarfsausweis                                                                                            336\n",
              "NaN                                                                                                       297\n",
              "Verbrauchsausweis Energie­ver­brauchs­kennwert 98,5 kWh/(m²*a)                                              8\n",
              "Verbrauchsausweis End­energie­verbrauch 204,3 kWh/(m²*a)                                                    7\n",
              "Verbrauchsausweis Energie­ver­brauchs­kennwert 92 kWh/(m²*a) Energieverbrauch für Warmwasser enthalten      5\n",
              "                                                                                                         ... \n",
              "Verbrauchsausweis Energie­ver­brauchs­kennwert 136,3 kWh/(m²*a)                                             1\n",
              "Verbrauchsausweis Energie­ver­brauchs­kennwert 144,2 kWh/(m²*a)                                             1\n",
              "Verbrauchsausweis Energie­ver­brauchs­kennwert 139 kWh/(m²*a)                                               1\n",
              "Verbrauchsausweis End­energie­verbrauch 177,5 kWh/(m²*a)                                                    1\n",
              "Verbrauchsausweis Energie­ver­brauchs­kennwert 91,4 kWh/(m²*a)                                              1\n",
              "Name: type_of_certificate, Length: 86, dtype: int64"
            ]
          },
          "metadata": {},
          "execution_count": 64
        }
      ]
    },
    {
      "cell_type": "code",
      "source": [
        "df['type_of_certificate']=df['type_of_certificate'].fillna(0)"
      ],
      "metadata": {
        "id": "iCgVM0eu--6G"
      },
      "execution_count": null,
      "outputs": []
    },
    {
      "cell_type": "code",
      "source": [
        "df['type_of_certificate'] = df['type_of_certificate'].str.replace(r'\\D', '')\n"
      ],
      "metadata": {
        "colab": {
          "base_uri": "https://localhost:8080/"
        },
        "id": "PjRfQfP7Ssxu",
        "outputId": "f72f4b6a-cbb7-4ffb-a194-1569c5aac623"
      },
      "execution_count": null,
      "outputs": [
        {
          "output_type": "stream",
          "name": "stderr",
          "text": [
            "/usr/local/lib/python3.7/dist-packages/ipykernel_launcher.py:1: FutureWarning:\n",
            "\n",
            "The default value of regex will change from True to False in a future version.\n",
            "\n"
          ]
        }
      ]
    },
    {
      "cell_type": "code",
      "source": [
        "df.type_of_certificate.unique()"
      ],
      "metadata": {
        "colab": {
          "base_uri": "https://localhost:8080/"
        },
        "id": "zfboQnO-VjBT",
        "outputId": "57deea66-9272-44dc-e1d2-0b2a40268bf9"
      },
      "execution_count": null,
      "outputs": [
        {
          "output_type": "execute_result",
          "data": {
            "text/plain": [
              "array(['', nan, '985', '84', '1717', '74', '109', '1208', '2043', '215',\n",
              "       '2182', '120', '2195', '53', '113', '10467', '132', '163', '1281',\n",
              "       '70', '1264', '80', '101', '653', '1239', '123', '1444', '7834',\n",
              "       '562', '136', '92', '1587', '125', '97', '121', '1129', '102',\n",
              "       '209', '144', '1051', '105', '1363', '1442', '139', '1775',\n",
              "       '12851', '62', '1469', '19292', '126', '7282', '8798', '128',\n",
              "       '1708', '1038', '937', '148', '1468', '634', '986', '174', '1725',\n",
              "       '1309', '6621', '819', '64', '1161', '141', '197', '186', '131',\n",
              "       '654', '974', '2075', '1879', '825', '89', '1191', '86', '914'],\n",
              "      dtype=object)"
            ]
          },
          "metadata": {},
          "execution_count": 67
        }
      ]
    },
    {
      "cell_type": "code",
      "source": [
        "df.type_of_certificate.isnull().sum()"
      ],
      "metadata": {
        "colab": {
          "base_uri": "https://localhost:8080/"
        },
        "id": "r9DyZMQgUA5A",
        "outputId": "5a324fb0-2097-4a49-f48a-4acd256e2e93"
      },
      "execution_count": null,
      "outputs": [
        {
          "output_type": "execute_result",
          "data": {
            "text/plain": [
              "297"
            ]
          },
          "metadata": {},
          "execution_count": 68
        }
      ]
    },
    {
      "cell_type": "code",
      "source": [
        "df.type_of_certificate.unique()"
      ],
      "metadata": {
        "colab": {
          "base_uri": "https://localhost:8080/"
        },
        "id": "XcecKgisUXMN",
        "outputId": "c86299fb-d512-429f-f561-089f041d6141"
      },
      "execution_count": null,
      "outputs": [
        {
          "output_type": "execute_result",
          "data": {
            "text/plain": [
              "array(['', nan, '985', '84', '1717', '74', '109', '1208', '2043', '215',\n",
              "       '2182', '120', '2195', '53', '113', '10467', '132', '163', '1281',\n",
              "       '70', '1264', '80', '101', '653', '1239', '123', '1444', '7834',\n",
              "       '562', '136', '92', '1587', '125', '97', '121', '1129', '102',\n",
              "       '209', '144', '1051', '105', '1363', '1442', '139', '1775',\n",
              "       '12851', '62', '1469', '19292', '126', '7282', '8798', '128',\n",
              "       '1708', '1038', '937', '148', '1468', '634', '986', '174', '1725',\n",
              "       '1309', '6621', '819', '64', '1161', '141', '197', '186', '131',\n",
              "       '654', '974', '2075', '1879', '825', '89', '1191', '86', '914'],\n",
              "      dtype=object)"
            ]
          },
          "metadata": {},
          "execution_count": 69
        }
      ]
    },
    {
      "cell_type": "code",
      "source": [
        "df['Name'] = df['Name'].map(lambda x: ''.join([i for i in x if i.isdigit()]))\n"
      ],
      "metadata": {
        "id": "lbjzHsdoVepk",
        "colab": {
          "base_uri": "https://localhost:8080/",
          "height": 501
        },
        "outputId": "1b26044c-91bb-4993-e4ff-792427d808b0"
      },
      "execution_count": null,
      "outputs": [
        {
          "output_type": "error",
          "ename": "KeyError",
          "evalue": "ignored",
          "traceback": [
            "\u001b[0;31m---------------------------------------------------------------------------\u001b[0m",
            "\u001b[0;31mKeyError\u001b[0m                                  Traceback (most recent call last)",
            "\u001b[0;32m/usr/local/lib/python3.7/dist-packages/pandas/core/indexes/base.py\u001b[0m in \u001b[0;36mget_loc\u001b[0;34m(self, key, method, tolerance)\u001b[0m\n\u001b[1;32m   3360\u001b[0m             \u001b[0;32mtry\u001b[0m\u001b[0;34m:\u001b[0m\u001b[0;34m\u001b[0m\u001b[0;34m\u001b[0m\u001b[0m\n\u001b[0;32m-> 3361\u001b[0;31m                 \u001b[0;32mreturn\u001b[0m \u001b[0mself\u001b[0m\u001b[0;34m.\u001b[0m\u001b[0m_engine\u001b[0m\u001b[0;34m.\u001b[0m\u001b[0mget_loc\u001b[0m\u001b[0;34m(\u001b[0m\u001b[0mcasted_key\u001b[0m\u001b[0;34m)\u001b[0m\u001b[0;34m\u001b[0m\u001b[0;34m\u001b[0m\u001b[0m\n\u001b[0m\u001b[1;32m   3362\u001b[0m             \u001b[0;32mexcept\u001b[0m \u001b[0mKeyError\u001b[0m \u001b[0;32mas\u001b[0m \u001b[0merr\u001b[0m\u001b[0;34m:\u001b[0m\u001b[0;34m\u001b[0m\u001b[0;34m\u001b[0m\u001b[0m\n",
            "\u001b[0;32m/usr/local/lib/python3.7/dist-packages/pandas/_libs/index.pyx\u001b[0m in \u001b[0;36mpandas._libs.index.IndexEngine.get_loc\u001b[0;34m()\u001b[0m\n",
            "\u001b[0;32m/usr/local/lib/python3.7/dist-packages/pandas/_libs/index.pyx\u001b[0m in \u001b[0;36mpandas._libs.index.IndexEngine.get_loc\u001b[0;34m()\u001b[0m\n",
            "\u001b[0;32mpandas/_libs/hashtable_class_helper.pxi\u001b[0m in \u001b[0;36mpandas._libs.hashtable.PyObjectHashTable.get_item\u001b[0;34m()\u001b[0m\n",
            "\u001b[0;32mpandas/_libs/hashtable_class_helper.pxi\u001b[0m in \u001b[0;36mpandas._libs.hashtable.PyObjectHashTable.get_item\u001b[0;34m()\u001b[0m\n",
            "\u001b[0;31mKeyError\u001b[0m: 'Name'",
            "\nThe above exception was the direct cause of the following exception:\n",
            "\u001b[0;31mKeyError\u001b[0m                                  Traceback (most recent call last)",
            "\u001b[0;32m<ipython-input-70-f55211bcba41>\u001b[0m in \u001b[0;36m<module>\u001b[0;34m()\u001b[0m\n\u001b[0;32m----> 1\u001b[0;31m \u001b[0mdf\u001b[0m\u001b[0;34m[\u001b[0m\u001b[0;34m'Name'\u001b[0m\u001b[0;34m]\u001b[0m \u001b[0;34m=\u001b[0m \u001b[0mdf\u001b[0m\u001b[0;34m[\u001b[0m\u001b[0;34m'Name'\u001b[0m\u001b[0;34m]\u001b[0m\u001b[0;34m.\u001b[0m\u001b[0mmap\u001b[0m\u001b[0;34m(\u001b[0m\u001b[0;32mlambda\u001b[0m \u001b[0mx\u001b[0m\u001b[0;34m:\u001b[0m \u001b[0;34m''\u001b[0m\u001b[0;34m.\u001b[0m\u001b[0mjoin\u001b[0m\u001b[0;34m(\u001b[0m\u001b[0;34m[\u001b[0m\u001b[0mi\u001b[0m \u001b[0;32mfor\u001b[0m \u001b[0mi\u001b[0m \u001b[0;32min\u001b[0m \u001b[0mx\u001b[0m \u001b[0;32mif\u001b[0m \u001b[0mi\u001b[0m\u001b[0;34m.\u001b[0m\u001b[0misdigit\u001b[0m\u001b[0;34m(\u001b[0m\u001b[0;34m)\u001b[0m\u001b[0;34m]\u001b[0m\u001b[0;34m)\u001b[0m\u001b[0;34m)\u001b[0m\u001b[0;34m\u001b[0m\u001b[0;34m\u001b[0m\u001b[0m\n\u001b[0m",
            "\u001b[0;32m/usr/local/lib/python3.7/dist-packages/pandas/core/frame.py\u001b[0m in \u001b[0;36m__getitem__\u001b[0;34m(self, key)\u001b[0m\n\u001b[1;32m   3456\u001b[0m             \u001b[0;32mif\u001b[0m \u001b[0mself\u001b[0m\u001b[0;34m.\u001b[0m\u001b[0mcolumns\u001b[0m\u001b[0;34m.\u001b[0m\u001b[0mnlevels\u001b[0m \u001b[0;34m>\u001b[0m \u001b[0;36m1\u001b[0m\u001b[0;34m:\u001b[0m\u001b[0;34m\u001b[0m\u001b[0;34m\u001b[0m\u001b[0m\n\u001b[1;32m   3457\u001b[0m                 \u001b[0;32mreturn\u001b[0m \u001b[0mself\u001b[0m\u001b[0;34m.\u001b[0m\u001b[0m_getitem_multilevel\u001b[0m\u001b[0;34m(\u001b[0m\u001b[0mkey\u001b[0m\u001b[0;34m)\u001b[0m\u001b[0;34m\u001b[0m\u001b[0;34m\u001b[0m\u001b[0m\n\u001b[0;32m-> 3458\u001b[0;31m             \u001b[0mindexer\u001b[0m \u001b[0;34m=\u001b[0m \u001b[0mself\u001b[0m\u001b[0;34m.\u001b[0m\u001b[0mcolumns\u001b[0m\u001b[0;34m.\u001b[0m\u001b[0mget_loc\u001b[0m\u001b[0;34m(\u001b[0m\u001b[0mkey\u001b[0m\u001b[0;34m)\u001b[0m\u001b[0;34m\u001b[0m\u001b[0;34m\u001b[0m\u001b[0m\n\u001b[0m\u001b[1;32m   3459\u001b[0m             \u001b[0;32mif\u001b[0m \u001b[0mis_integer\u001b[0m\u001b[0;34m(\u001b[0m\u001b[0mindexer\u001b[0m\u001b[0;34m)\u001b[0m\u001b[0;34m:\u001b[0m\u001b[0;34m\u001b[0m\u001b[0;34m\u001b[0m\u001b[0m\n\u001b[1;32m   3460\u001b[0m                 \u001b[0mindexer\u001b[0m \u001b[0;34m=\u001b[0m \u001b[0;34m[\u001b[0m\u001b[0mindexer\u001b[0m\u001b[0;34m]\u001b[0m\u001b[0;34m\u001b[0m\u001b[0;34m\u001b[0m\u001b[0m\n",
            "\u001b[0;32m/usr/local/lib/python3.7/dist-packages/pandas/core/indexes/base.py\u001b[0m in \u001b[0;36mget_loc\u001b[0;34m(self, key, method, tolerance)\u001b[0m\n\u001b[1;32m   3361\u001b[0m                 \u001b[0;32mreturn\u001b[0m \u001b[0mself\u001b[0m\u001b[0;34m.\u001b[0m\u001b[0m_engine\u001b[0m\u001b[0;34m.\u001b[0m\u001b[0mget_loc\u001b[0m\u001b[0;34m(\u001b[0m\u001b[0mcasted_key\u001b[0m\u001b[0;34m)\u001b[0m\u001b[0;34m\u001b[0m\u001b[0;34m\u001b[0m\u001b[0m\n\u001b[1;32m   3362\u001b[0m             \u001b[0;32mexcept\u001b[0m \u001b[0mKeyError\u001b[0m \u001b[0;32mas\u001b[0m \u001b[0merr\u001b[0m\u001b[0;34m:\u001b[0m\u001b[0;34m\u001b[0m\u001b[0;34m\u001b[0m\u001b[0m\n\u001b[0;32m-> 3363\u001b[0;31m                 \u001b[0;32mraise\u001b[0m \u001b[0mKeyError\u001b[0m\u001b[0;34m(\u001b[0m\u001b[0mkey\u001b[0m\u001b[0;34m)\u001b[0m \u001b[0;32mfrom\u001b[0m \u001b[0merr\u001b[0m\u001b[0;34m\u001b[0m\u001b[0;34m\u001b[0m\u001b[0m\n\u001b[0m\u001b[1;32m   3364\u001b[0m \u001b[0;34m\u001b[0m\u001b[0m\n\u001b[1;32m   3365\u001b[0m         \u001b[0;32mif\u001b[0m \u001b[0mis_scalar\u001b[0m\u001b[0;34m(\u001b[0m\u001b[0mkey\u001b[0m\u001b[0;34m)\u001b[0m \u001b[0;32mand\u001b[0m \u001b[0misna\u001b[0m\u001b[0;34m(\u001b[0m\u001b[0mkey\u001b[0m\u001b[0;34m)\u001b[0m \u001b[0;32mand\u001b[0m \u001b[0;32mnot\u001b[0m \u001b[0mself\u001b[0m\u001b[0;34m.\u001b[0m\u001b[0mhasnans\u001b[0m\u001b[0;34m:\u001b[0m\u001b[0;34m\u001b[0m\u001b[0;34m\u001b[0m\u001b[0m\n",
            "\u001b[0;31mKeyError\u001b[0m: 'Name'"
          ]
        }
      ]
    },
    {
      "cell_type": "markdown",
      "metadata": {
        "id": "xnQMN5CQt90T"
      },
      "source": [
        "--- \n",
        "# Review\n",
        "\n",
        "This section is only for the reviewing team!\n",
        "\n",
        "Guideline how to review:\n",
        "https://docs.google.com/presentation/d/1YORFwlfVQo9ogj7jR9t6_pqxmGIlpBSGubbp1UdtcBQ/edit?usp=sharing\n"
      ]
    },
    {
      "cell_type": "code",
      "metadata": {
        "id": "t_oU8YSOt-b0"
      },
      "source": [
        "#@title Review Criteria:\n",
        "%%html\n",
        "<h3><input type=\"checkbox\"> 1. Are all questions answered? <br></h3>\n",
        "<h3><input type=\"checkbox\"> 2. Does all code run through? <br></h3>\n",
        "<h3><input type=\"checkbox\"> 3. Are explanations of fill strategy provided for all relevant questions?  <br></h3>\n",
        "<h3><input type=\"checkbox\"> 4. Are different strategies used for continuous vs categorical data?  <br></h3>\n",
        "<h3><input type=\"checkbox\"> 5. Is the bonus question answered?  <br></h3> "
      ],
      "execution_count": null,
      "outputs": []
    },
    {
      "cell_type": "code",
      "metadata": {
        "id": "vrmrmS4BavqM"
      },
      "source": [
        ""
      ],
      "execution_count": null,
      "outputs": []
    }
  ]
}