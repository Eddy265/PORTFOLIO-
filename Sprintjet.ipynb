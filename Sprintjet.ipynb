{
 "cells": [
  {
   "cell_type": "code",
   "execution_count": 70,
   "id": "5b314130-724b-4836-9f23-2bc47926705c",
   "metadata": {},
   "outputs": [],
   "source": [
    "import pandas as pd\n",
    "from pathlib import Path\n",
    "import statistics\n",
    "import matplotlib.pyplot as plt\n",
    "import numpy as np\n",
    "pd.plotting.register_matplotlib_converters()\n",
    "import matplotlib.pyplot as plt\n",
    "%matplotlib inline\n",
    "import seaborn as sns\n",
    "from datetime import timedelta\n",
    "import plotly.express as px"
   ]
  },
  {
   "cell_type": "code",
   "execution_count": 71,
   "id": "f668ee55-f929-4902-ae2b-eb3f570fc64e",
   "metadata": {},
   "outputs": [],
   "source": [
    "df=pd.read_csv('C:/Users/euzoe/OneDrive/Desktop/Logistics/ARCHIVE/Office_oct_nov.csv')"
   ]
  },
  {
   "cell_type": "code",
   "execution_count": 72,
   "id": "0c1ae588-4cd7-4c43-8758-d4c779e078c3",
   "metadata": {},
   "outputs": [
    {
     "data": {
      "text/html": [
       "<div>\n",
       "<style scoped>\n",
       "    .dataframe tbody tr th:only-of-type {\n",
       "        vertical-align: middle;\n",
       "    }\n",
       "\n",
       "    .dataframe tbody tr th {\n",
       "        vertical-align: top;\n",
       "    }\n",
       "\n",
       "    .dataframe thead th {\n",
       "        text-align: right;\n",
       "    }\n",
       "</style>\n",
       "<table border=\"1\" class=\"dataframe\">\n",
       "  <thead>\n",
       "    <tr style=\"text-align: right;\">\n",
       "      <th></th>\n",
       "      <th>DATE</th>\n",
       "      <th>SENDERS NAME</th>\n",
       "      <th>PHONE NUMBER</th>\n",
       "      <th>RECEIVERS NAME</th>\n",
       "      <th>PHONE NUMBER4</th>\n",
       "      <th>PICK UP ADDRESS</th>\n",
       "      <th>DELIVERY ADDRESS</th>\n",
       "      <th>DELIVERY CONFIRMATION</th>\n",
       "      <th>AMOUNT</th>\n",
       "      <th>PAYMENT TYPE</th>\n",
       "      <th>REVIEW</th>\n",
       "      <th>DISPATCH RIDER</th>\n",
       "      <th>ITEM</th>\n",
       "      <th>COMMENT</th>\n",
       "    </tr>\n",
       "  </thead>\n",
       "  <tbody>\n",
       "    <tr>\n",
       "      <th>0</th>\n",
       "      <td>01.10.2021</td>\n",
       "      <td>Nnenna</td>\n",
       "      <td>7.09E+09</td>\n",
       "      <td>Uche</td>\n",
       "      <td>7.09E+09</td>\n",
       "      <td>Trade fair</td>\n",
       "      <td>Adesanya</td>\n",
       "      <td>Delivered</td>\n",
       "      <td>3000.0</td>\n",
       "      <td>Bank Transfer</td>\n",
       "      <td>5.0</td>\n",
       "      <td>Kelvin</td>\n",
       "      <td>Jewelry</td>\n",
       "      <td>NaN</td>\n",
       "    </tr>\n",
       "    <tr>\n",
       "      <th>1</th>\n",
       "      <td>01.10.2021</td>\n",
       "      <td>Nnenna</td>\n",
       "      <td>7.09E+09</td>\n",
       "      <td>Uche</td>\n",
       "      <td>7.09E+09</td>\n",
       "      <td>Oke Aro</td>\n",
       "      <td>Adesanya</td>\n",
       "      <td>Delivered</td>\n",
       "      <td>3000.0</td>\n",
       "      <td>Bank Transfer</td>\n",
       "      <td>5.0</td>\n",
       "      <td>Kelvin</td>\n",
       "      <td>Cloth</td>\n",
       "      <td>NaN</td>\n",
       "    </tr>\n",
       "    <tr>\n",
       "      <th>2</th>\n",
       "      <td>01.10.2021</td>\n",
       "      <td>Hero</td>\n",
       "      <td>N</td>\n",
       "      <td>Chroma</td>\n",
       "      <td>8.05E+09</td>\n",
       "      <td>Bariga</td>\n",
       "      <td>Abule oja</td>\n",
       "      <td>Delivered</td>\n",
       "      <td>800.0</td>\n",
       "      <td>Bank Transfer</td>\n",
       "      <td>5.0</td>\n",
       "      <td>Edet</td>\n",
       "      <td>Zobo Drink</td>\n",
       "      <td>NaN</td>\n",
       "    </tr>\n",
       "    <tr>\n",
       "      <th>3</th>\n",
       "      <td>02.10.2021</td>\n",
       "      <td>Deborah</td>\n",
       "      <td>N</td>\n",
       "      <td>Kabira</td>\n",
       "      <td>9.02E+09</td>\n",
       "      <td>Ojodu Berger</td>\n",
       "      <td>Ikorodu</td>\n",
       "      <td>Delivered</td>\n",
       "      <td>2000.0</td>\n",
       "      <td>Bank Transfer</td>\n",
       "      <td>5.0</td>\n",
       "      <td>Eze</td>\n",
       "      <td>Materia</td>\n",
       "      <td>NaN</td>\n",
       "    </tr>\n",
       "    <tr>\n",
       "      <th>4</th>\n",
       "      <td>02.10.2021</td>\n",
       "      <td>Deladina yorgut parafit</td>\n",
       "      <td>8.06E+09</td>\n",
       "      <td>Ogechi</td>\n",
       "      <td>9.04E+09</td>\n",
       "      <td>Allen Ikeja</td>\n",
       "      <td>Ikosi ketu</td>\n",
       "      <td>Delivered</td>\n",
       "      <td>1000.0</td>\n",
       "      <td>Bank Transfer</td>\n",
       "      <td>5.0</td>\n",
       "      <td>Kelvin</td>\n",
       "      <td>Parafit</td>\n",
       "      <td>NaN</td>\n",
       "    </tr>\n",
       "  </tbody>\n",
       "</table>\n",
       "</div>"
      ],
      "text/plain": [
       "         DATE             SENDERS NAME PHONE NUMBER RECEIVERS NAME  \\\n",
       "0  01.10.2021                   Nnenna     7.09E+09           Uche   \n",
       "1  01.10.2021                   Nnenna     7.09E+09           Uche   \n",
       "2  01.10.2021                     Hero            N         Chroma   \n",
       "3  02.10.2021                  Deborah            N         Kabira   \n",
       "4  02.10.2021  Deladina yorgut parafit     8.06E+09         Ogechi   \n",
       "\n",
       "  PHONE NUMBER4 PICK UP ADDRESS DELIVERY ADDRESS DELIVERY CONFIRMATION  \\\n",
       "0      7.09E+09      Trade fair         Adesanya             Delivered   \n",
       "1      7.09E+09         Oke Aro         Adesanya             Delivered   \n",
       "2      8.05E+09          Bariga        Abule oja             Delivered   \n",
       "3      9.02E+09    Ojodu Berger          Ikorodu             Delivered   \n",
       "4      9.04E+09     Allen Ikeja       Ikosi ketu             Delivered   \n",
       "\n",
       "   AMOUNT   PAYMENT TYPE  REVIEW DISPATCH RIDER        ITEM COMMENT  \n",
       "0  3000.0  Bank Transfer     5.0         Kelvin     Jewelry     NaN  \n",
       "1  3000.0  Bank Transfer     5.0         Kelvin       Cloth     NaN  \n",
       "2   800.0  Bank Transfer     5.0           Edet  Zobo Drink     NaN  \n",
       "3  2000.0  Bank Transfer     5.0            Eze     Materia     NaN  \n",
       "4  1000.0  Bank Transfer     5.0         Kelvin     Parafit     NaN  "
      ]
     },
     "execution_count": 72,
     "metadata": {},
     "output_type": "execute_result"
    }
   ],
   "source": [
    "df.head()"
   ]
  },
  {
   "cell_type": "code",
   "execution_count": 73,
   "id": "7e4a1c09-9c4d-43e3-b085-7f3bf5946fda",
   "metadata": {},
   "outputs": [
    {
     "data": {
      "text/plain": [
       "(372, 14)"
      ]
     },
     "execution_count": 73,
     "metadata": {},
     "output_type": "execute_result"
    }
   ],
   "source": [
    "df.shape"
   ]
  },
  {
   "cell_type": "code",
   "execution_count": 74,
   "id": "28dcfa45-cce0-412a-8912-b974f417f569",
   "metadata": {},
   "outputs": [
    {
     "data": {
      "text/plain": [
       "DATE                       3\n",
       "SENDERS NAME               3\n",
       "PHONE NUMBER              11\n",
       "RECEIVERS NAME            17\n",
       "PHONE NUMBER4             15\n",
       "PICK UP ADDRESS            6\n",
       "DELIVERY ADDRESS           8\n",
       "DELIVERY CONFIRMATION      8\n",
       "AMOUNT                     6\n",
       "PAYMENT TYPE              10\n",
       "REVIEW                    19\n",
       "DISPATCH RIDER             7\n",
       "ITEM                      23\n",
       "COMMENT                  367\n",
       "dtype: int64"
      ]
     },
     "execution_count": 74,
     "metadata": {},
     "output_type": "execute_result"
    }
   ],
   "source": [
    "df.isnull().sum()"
   ]
  },
  {
   "cell_type": "code",
   "execution_count": 75,
   "id": "d5d2bca3-24f1-4e93-9c82-c98578ecea45",
   "metadata": {},
   "outputs": [],
   "source": [
    "df=df.dropna()"
   ]
  },
  {
   "cell_type": "code",
   "execution_count": 76,
   "id": "9e90982c-1263-40e2-a15f-fa6ea839d5fb",
   "metadata": {},
   "outputs": [
    {
     "data": {
      "text/plain": [
       "DATE                     0\n",
       "SENDERS NAME             0\n",
       "PHONE NUMBER             0\n",
       "RECEIVERS NAME           0\n",
       "PHONE NUMBER4            0\n",
       "PICK UP ADDRESS          0\n",
       "DELIVERY ADDRESS         0\n",
       "DELIVERY CONFIRMATION    0\n",
       "AMOUNT                   0\n",
       "PAYMENT TYPE             0\n",
       "REVIEW                   0\n",
       "DISPATCH RIDER           0\n",
       "ITEM                     0\n",
       "COMMENT                  0\n",
       "dtype: int64"
      ]
     },
     "execution_count": 76,
     "metadata": {},
     "output_type": "execute_result"
    }
   ],
   "source": [
    "df.isnull().sum()"
   ]
  },
  {
   "cell_type": "code",
   "execution_count": 81,
   "id": "aa1731ce-7860-47c5-8ff1-77e63f106053",
   "metadata": {},
   "outputs": [],
   "source": [
    "df.rename(columns={'DISPATCH RIDER':'RIDER'}, inplace=True)"
   ]
  },
  {
   "cell_type": "code",
   "execution_count": 82,
   "id": "c9ae0e29-9de0-4388-9368-fe96a03d23df",
   "metadata": {},
   "outputs": [
    {
     "data": {
      "text/plain": [
       "array(['Eze', 'Edet', 'Gabriel'], dtype=object)"
      ]
     },
     "execution_count": 82,
     "metadata": {},
     "output_type": "execute_result"
    }
   ],
   "source": [
    "df.RIDER.unique()"
   ]
  },
  {
   "cell_type": "code",
   "execution_count": 78,
   "id": "3c1e77b7-a606-442a-9c9a-70e58aa1fc36",
   "metadata": {},
   "outputs": [
    {
     "data": {
      "text/plain": [
       "Eze        3\n",
       "Edet       1\n",
       "Gabriel    1\n",
       "Name: RIDER, dtype: int64"
      ]
     },
     "execution_count": 78,
     "metadata": {},
     "output_type": "execute_result"
    }
   ],
   "source": [
    "df.RIDER.value_counts()"
   ]
  },
  {
   "cell_type": "code",
   "execution_count": 47,
   "id": "34896377-615d-4087-bfeb-a046cd7b1eb4",
   "metadata": {},
   "outputs": [],
   "source": [
    "a=9,90,6,7,5,846,5,5"
   ]
  },
  {
   "cell_type": "code",
   "execution_count": 48,
   "id": "1137f1c1-5655-4245-a200-5bfc5be7ca78",
   "metadata": {},
   "outputs": [
    {
     "data": {
      "text/plain": [
       "973"
      ]
     },
     "execution_count": 48,
     "metadata": {},
     "output_type": "execute_result"
    }
   ],
   "source": [
    "sum(a)"
   ]
  },
  {
   "cell_type": "code",
   "execution_count": 49,
   "id": "f994f068-8edb-4db1-842b-093eeac19da3",
   "metadata": {},
   "outputs": [
    {
     "data": {
      "text/plain": [
       "121.625"
      ]
     },
     "execution_count": 49,
     "metadata": {},
     "output_type": "execute_result"
    }
   ],
   "source": [
    "ave=sum(a)/len(a)\n",
    "ave"
   ]
  },
  {
   "cell_type": "code",
   "execution_count": null,
   "id": "4c514bda-d161-4c8d-a321-0c46d3c190c4",
   "metadata": {},
   "outputs": [],
   "source": []
  }
 ],
 "metadata": {
  "kernelspec": {
   "display_name": "Python 3 (ipykernel)",
   "language": "python",
   "name": "python3"
  },
  "language_info": {
   "codemirror_mode": {
    "name": "ipython",
    "version": 3
   },
   "file_extension": ".py",
   "mimetype": "text/x-python",
   "name": "python",
   "nbconvert_exporter": "python",
   "pygments_lexer": "ipython3",
   "version": "3.9.7"
  }
 },
 "nbformat": 4,
 "nbformat_minor": 5
}
