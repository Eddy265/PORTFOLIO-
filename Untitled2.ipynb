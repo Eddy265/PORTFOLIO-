{
 "cells": [
  {
   "cell_type": "code",
   "execution_count": 1,
   "id": "d424c4d9-5606-47ea-8843-9d1be906572f",
   "metadata": {},
   "outputs": [
    {
     "name": "stdout",
     "output_type": "stream",
     "text": [
      "{'shown': True, 'pendown': True, 'pencolor': 'black', 'fillcolor': 'black', 'pensize': 1, 'speed': 3, 'resizemode': 'noresize', 'stretchfactor': (1.0, 1.0), 'shearfactor': 0.0, 'outline': 1, 'tilt': 0.0}\n",
      "{'shown': True, 'pendown': True, 'pencolor': 'red', 'fillcolor': 'black', 'pensize': 1, 'speed': 3, 'resizemode': 'noresize', 'stretchfactor': (1.0, 1.0), 'shearfactor': 0.0, 'outline': 2, 'tilt': 0.0}\n"
     ]
    }
   ],
   "source": [
    "# import package\n",
    "import turtle\n",
    " \n",
    "# check default to compare\n",
    "print(turtle.pen())\n",
    " \n",
    "# update with some inputs\n",
    "turtle.pen(pencolor=\"red\", outline=2)\n",
    " \n",
    "# again check\n",
    "print(turtle.pen())"
   ]
  },
  {
   "cell_type": "code",
   "execution_count": null,
   "id": "3857a098-2ee5-4fa0-a536-92f0e4f700af",
   "metadata": {},
   "outputs": [],
   "source": []
  }
 ],
 "metadata": {
  "kernelspec": {
   "display_name": "Python 3 (ipykernel)",
   "language": "python",
   "name": "python3"
  },
  "language_info": {
   "codemirror_mode": {
    "name": "ipython",
    "version": 3
   },
   "file_extension": ".py",
   "mimetype": "text/x-python",
   "name": "python",
   "nbconvert_exporter": "python",
   "pygments_lexer": "ipython3",
   "version": "3.9.7"
  }
 },
 "nbformat": 4,
 "nbformat_minor": 5
}
